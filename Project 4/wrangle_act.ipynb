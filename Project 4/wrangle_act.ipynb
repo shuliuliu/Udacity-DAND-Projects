{
 "cells": [
  {
   "cell_type": "markdown",
   "metadata": {},
   "source": [
    "# Wrangle and Analyze Data: WeRateDogs\n",
    "\n",
    "This project is about data wrangling and visual analysis of data from \"the tweet archive of Twitter user @dog_rates, also known as WeRateDogs\". \"WeRateDogs is a Twitter account that rates people's dogs with a humorous comment about the dog.\"\n",
    "\n",
    "This jupyter notebook demonstrates the process to gather, assess and clean data. In the end, a few visualization will be plotted to showcase some of the findings from the tweet data. A summary report will come along in the format of .pdf.\n",
    "\n",
    "<ul>\n",
    "<li><a href=\"#gather\">Gather</a></li>\n",
    "<li><a href=\"#assess\">Assess</a></li>\n",
    "<li><a href=\"#clean\">Clean</a></li>\n",
    "<li><a href=\"#analyze\">Store, Analyze and Visualize</a></li>\n",
    "</ul>"
   ]
  },
  {
   "cell_type": "markdown",
   "metadata": {},
   "source": [
    "<a id='gather'></a>\n",
    "# Gather"
   ]
  },
  {
   "cell_type": "code",
   "execution_count": 1,
   "metadata": {},
   "outputs": [],
   "source": [
    "import pandas as pd\n",
    "import numpy as np\n",
    "import requests\n",
    "import os\n",
    "import tweepy\n",
    "import json\n",
    "import matplotlib.pyplot as plt\n",
    "import seaborn as sns"
   ]
  },
  {
   "cell_type": "code",
   "execution_count": 2,
   "metadata": {},
   "outputs": [
    {
     "data": {
      "text/html": [
       "<div>\n",
       "<style scoped>\n",
       "    .dataframe tbody tr th:only-of-type {\n",
       "        vertical-align: middle;\n",
       "    }\n",
       "\n",
       "    .dataframe tbody tr th {\n",
       "        vertical-align: top;\n",
       "    }\n",
       "\n",
       "    .dataframe thead th {\n",
       "        text-align: right;\n",
       "    }\n",
       "</style>\n",
       "<table border=\"1\" class=\"dataframe\">\n",
       "  <thead>\n",
       "    <tr style=\"text-align: right;\">\n",
       "      <th></th>\n",
       "      <th>tweet_id</th>\n",
       "      <th>in_reply_to_status_id</th>\n",
       "      <th>in_reply_to_user_id</th>\n",
       "      <th>timestamp</th>\n",
       "      <th>source</th>\n",
       "      <th>text</th>\n",
       "      <th>retweeted_status_id</th>\n",
       "      <th>retweeted_status_user_id</th>\n",
       "      <th>retweeted_status_timestamp</th>\n",
       "      <th>expanded_urls</th>\n",
       "      <th>rating_numerator</th>\n",
       "      <th>rating_denominator</th>\n",
       "      <th>name</th>\n",
       "      <th>doggo</th>\n",
       "      <th>floofer</th>\n",
       "      <th>pupper</th>\n",
       "      <th>puppo</th>\n",
       "    </tr>\n",
       "  </thead>\n",
       "  <tbody>\n",
       "    <tr>\n",
       "      <th>0</th>\n",
       "      <td>892420643555336193</td>\n",
       "      <td>NaN</td>\n",
       "      <td>NaN</td>\n",
       "      <td>2017-08-01 16:23:56 +0000</td>\n",
       "      <td>&lt;a href=\"http://twitter.com/download/iphone\" r...</td>\n",
       "      <td>This is Phineas. He's a mystical boy. Only eve...</td>\n",
       "      <td>NaN</td>\n",
       "      <td>NaN</td>\n",
       "      <td>NaN</td>\n",
       "      <td>https://twitter.com/dog_rates/status/892420643...</td>\n",
       "      <td>13</td>\n",
       "      <td>10</td>\n",
       "      <td>Phineas</td>\n",
       "      <td>None</td>\n",
       "      <td>None</td>\n",
       "      <td>None</td>\n",
       "      <td>None</td>\n",
       "    </tr>\n",
       "  </tbody>\n",
       "</table>\n",
       "</div>"
      ],
      "text/plain": [
       "             tweet_id  in_reply_to_status_id  in_reply_to_user_id  \\\n",
       "0  892420643555336193                    NaN                  NaN   \n",
       "\n",
       "                   timestamp  \\\n",
       "0  2017-08-01 16:23:56 +0000   \n",
       "\n",
       "                                              source  \\\n",
       "0  <a href=\"http://twitter.com/download/iphone\" r...   \n",
       "\n",
       "                                                text  retweeted_status_id  \\\n",
       "0  This is Phineas. He's a mystical boy. Only eve...                  NaN   \n",
       "\n",
       "   retweeted_status_user_id retweeted_status_timestamp  \\\n",
       "0                       NaN                        NaN   \n",
       "\n",
       "                                       expanded_urls  rating_numerator  \\\n",
       "0  https://twitter.com/dog_rates/status/892420643...                13   \n",
       "\n",
       "   rating_denominator     name doggo floofer pupper puppo  \n",
       "0                  10  Phineas  None    None   None  None  "
      ]
     },
     "execution_count": 2,
     "metadata": {},
     "output_type": "execute_result"
    }
   ],
   "source": [
    "# extract data from the twitter archive .csv file and save to pandas dataframe\n",
    "twitter_archive = pd.read_csv('twitter-archive-enhanced.csv')\n",
    "twitter_archive.head(1)"
   ]
  },
  {
   "cell_type": "code",
   "execution_count": 3,
   "metadata": {},
   "outputs": [],
   "source": [
    "# connect to the url\n",
    "folder_name = 'image'\n",
    "if not os.path.exists(folder_name):\n",
    "    os.makedirs(folder_name)\n",
    "\n",
    "url = 'https://d17h27t6h515a5.cloudfront.net/topher/2017/August/599fd2ad_image-predictions/image-predictions.tsv'\n",
    "response = requests.get(url)"
   ]
  },
  {
   "cell_type": "code",
   "execution_count": 4,
   "metadata": {},
   "outputs": [],
   "source": [
    "# download the tsv file from the url\n",
    "with open(os.path.join(folder_name,\n",
    "                       url.split('/')[-1]),mode='wb') as file:\n",
    "    file.write(response.content)"
   ]
  },
  {
   "cell_type": "code",
   "execution_count": 5,
   "metadata": {},
   "outputs": [
    {
     "data": {
      "text/html": [
       "<div>\n",
       "<style scoped>\n",
       "    .dataframe tbody tr th:only-of-type {\n",
       "        vertical-align: middle;\n",
       "    }\n",
       "\n",
       "    .dataframe tbody tr th {\n",
       "        vertical-align: top;\n",
       "    }\n",
       "\n",
       "    .dataframe thead th {\n",
       "        text-align: right;\n",
       "    }\n",
       "</style>\n",
       "<table border=\"1\" class=\"dataframe\">\n",
       "  <thead>\n",
       "    <tr style=\"text-align: right;\">\n",
       "      <th></th>\n",
       "      <th>tweet_id</th>\n",
       "      <th>jpg_url</th>\n",
       "      <th>img_num</th>\n",
       "      <th>p1</th>\n",
       "      <th>p1_conf</th>\n",
       "      <th>p1_dog</th>\n",
       "      <th>p2</th>\n",
       "      <th>p2_conf</th>\n",
       "      <th>p2_dog</th>\n",
       "      <th>p3</th>\n",
       "      <th>p3_conf</th>\n",
       "      <th>p3_dog</th>\n",
       "    </tr>\n",
       "  </thead>\n",
       "  <tbody>\n",
       "    <tr>\n",
       "      <th>0</th>\n",
       "      <td>666020888022790149</td>\n",
       "      <td>https://pbs.twimg.com/media/CT4udn0WwAA0aMy.jpg</td>\n",
       "      <td>1</td>\n",
       "      <td>Welsh_springer_spaniel</td>\n",
       "      <td>0.465074</td>\n",
       "      <td>True</td>\n",
       "      <td>collie</td>\n",
       "      <td>0.156665</td>\n",
       "      <td>True</td>\n",
       "      <td>Shetland_sheepdog</td>\n",
       "      <td>0.061428</td>\n",
       "      <td>True</td>\n",
       "    </tr>\n",
       "  </tbody>\n",
       "</table>\n",
       "</div>"
      ],
      "text/plain": [
       "             tweet_id                                          jpg_url  \\\n",
       "0  666020888022790149  https://pbs.twimg.com/media/CT4udn0WwAA0aMy.jpg   \n",
       "\n",
       "   img_num                      p1   p1_conf  p1_dog      p2   p2_conf  \\\n",
       "0        1  Welsh_springer_spaniel  0.465074    True  collie  0.156665   \n",
       "\n",
       "   p2_dog                 p3   p3_conf  p3_dog  \n",
       "0    True  Shetland_sheepdog  0.061428    True  "
      ]
     },
     "execution_count": 5,
     "metadata": {},
     "output_type": "execute_result"
    }
   ],
   "source": [
    "# save the image prediction data to pandas dataframe\n",
    "image_prediction = pd.read_csv('image/image-predictions.tsv',sep='\\t')\n",
    "image_prediction.head(1)"
   ]
  },
  {
   "cell_type": "code",
   "execution_count": 6,
   "metadata": {},
   "outputs": [],
   "source": [
    "# set up connection with Twitter via API\n",
    "consumer_key = 'consumer_key'\n",
    "consumer_secret = 'consumer_secret'\n",
    "access_token = 'access_token'\n",
    "access_secret = 'access_secret'\n",
    "\n",
    "auth = tweepy.OAuthHandler(consumer_key, consumer_secret)\n",
    "auth.set_access_token(access_token, access_secret)\n",
    "\n",
    "api = tweepy.API(auth,wait_on_rate_limit=True,wait_on_rate_limit_notify=True)"
   ]
  },
  {
   "cell_type": "code",
   "execution_count": 7,
   "metadata": {},
   "outputs": [
    {
     "name": "stdout",
     "output_type": "stream",
     "text": [
      "{'created_at': 'Tue Aug 01 16:23:56 +0000 2017', 'id': 892420643555336193, 'id_str': '892420643555336193', 'full_text': \"This is Phineas. He's a mystical boy. Only ever appears in the hole of a donut. 13/10 https://t.co/MgUWQ76dJU\", 'truncated': False, 'display_text_range': [0, 85], 'entities': {'hashtags': [], 'symbols': [], 'user_mentions': [], 'urls': [], 'media': [{'id': 892420639486877696, 'id_str': '892420639486877696', 'indices': [86, 109], 'media_url': 'http://pbs.twimg.com/media/DGKD1-bXoAAIAUK.jpg', 'media_url_https': 'https://pbs.twimg.com/media/DGKD1-bXoAAIAUK.jpg', 'url': 'https://t.co/MgUWQ76dJU', 'display_url': 'pic.twitter.com/MgUWQ76dJU', 'expanded_url': 'https://twitter.com/dog_rates/status/892420643555336193/photo/1', 'type': 'photo', 'sizes': {'thumb': {'w': 150, 'h': 150, 'resize': 'crop'}, 'medium': {'w': 540, 'h': 528, 'resize': 'fit'}, 'small': {'w': 540, 'h': 528, 'resize': 'fit'}, 'large': {'w': 540, 'h': 528, 'resize': 'fit'}}}]}, 'extended_entities': {'media': [{'id': 892420639486877696, 'id_str': '892420639486877696', 'indices': [86, 109], 'media_url': 'http://pbs.twimg.com/media/DGKD1-bXoAAIAUK.jpg', 'media_url_https': 'https://pbs.twimg.com/media/DGKD1-bXoAAIAUK.jpg', 'url': 'https://t.co/MgUWQ76dJU', 'display_url': 'pic.twitter.com/MgUWQ76dJU', 'expanded_url': 'https://twitter.com/dog_rates/status/892420643555336193/photo/1', 'type': 'photo', 'sizes': {'thumb': {'w': 150, 'h': 150, 'resize': 'crop'}, 'medium': {'w': 540, 'h': 528, 'resize': 'fit'}, 'small': {'w': 540, 'h': 528, 'resize': 'fit'}, 'large': {'w': 540, 'h': 528, 'resize': 'fit'}}}]}, 'source': '<a href=\"http://twitter.com/download/iphone\" rel=\"nofollow\">Twitter for iPhone</a>', 'in_reply_to_status_id': None, 'in_reply_to_status_id_str': None, 'in_reply_to_user_id': None, 'in_reply_to_user_id_str': None, 'in_reply_to_screen_name': None, 'user': {'id': 4196983835, 'id_str': '4196983835', 'name': 'WeRateDogs®', 'screen_name': 'dog_rates', 'location': 'merch ➜', 'description': 'Your Only Source For Professional Dog Ratings Instagram and Facebook ➜ WeRateDogs partnerships@weratedogs.com ⠀⠀⠀⠀⠀⠀⠀⠀⠀⠀⠀⠀', 'url': 'https://t.co/N7sNNHSfPq', 'entities': {'url': {'urls': [{'url': 'https://t.co/N7sNNHSfPq', 'expanded_url': 'http://weratedogs.com', 'display_url': 'weratedogs.com', 'indices': [0, 23]}]}, 'description': {'urls': []}}, 'protected': False, 'followers_count': 8902492, 'friends_count': 18, 'listed_count': 6080, 'created_at': 'Sun Nov 15 21:41:29 +0000 2015', 'favourites_count': 145989, 'utc_offset': None, 'time_zone': None, 'geo_enabled': True, 'verified': True, 'statuses_count': 13104, 'lang': None, 'contributors_enabled': False, 'is_translator': False, 'is_translation_enabled': False, 'profile_background_color': '000000', 'profile_background_image_url': 'http://abs.twimg.com/images/themes/theme1/bg.png', 'profile_background_image_url_https': 'https://abs.twimg.com/images/themes/theme1/bg.png', 'profile_background_tile': False, 'profile_image_url': 'http://pbs.twimg.com/profile_images/1322993722691211264/vyjR1ftm_normal.jpg', 'profile_image_url_https': 'https://pbs.twimg.com/profile_images/1322993722691211264/vyjR1ftm_normal.jpg', 'profile_banner_url': 'https://pbs.twimg.com/profile_banners/4196983835/1591077312', 'profile_link_color': 'F5ABB5', 'profile_sidebar_border_color': '000000', 'profile_sidebar_fill_color': '000000', 'profile_text_color': '000000', 'profile_use_background_image': False, 'has_extended_profile': False, 'default_profile': False, 'default_profile_image': False, 'following': False, 'follow_request_sent': False, 'notifications': False, 'translator_type': 'none'}, 'geo': None, 'coordinates': None, 'place': None, 'contributors': None, 'is_quote_status': False, 'retweet_count': 7469, 'favorite_count': 35376, 'favorited': False, 'retweeted': False, 'possibly_sensitive': False, 'possibly_sensitive_appealable': False, 'lang': 'en'}\n"
     ]
    }
   ],
   "source": [
    "# to test if the connection is successful\n",
    "tweet = api.get_status('892420643555336193',tweet_mode='extended')\n",
    "print(tweet._json)"
   ]
  },
  {
   "cell_type": "markdown",
   "metadata": {},
   "source": [
    "From the above __json_ output, I can see a few possible useful fields such as favorite_count, retweet_count, and the person's followers_count. For now I will only extract favorite_count and retweet_count."
   ]
  },
  {
   "cell_type": "code",
   "execution_count": 8,
   "metadata": {},
   "outputs": [
    {
     "name": "stdout",
     "output_type": "stream",
     "text": [
      "888202515573088257 :  [{'code': 144, 'message': 'No status found with that ID.'}]\n",
      "873697596434513921 :  [{'code': 144, 'message': 'No status found with that ID.'}]\n",
      "872668790621863937 :  [{'code': 144, 'message': 'No status found with that ID.'}]\n",
      "872261713294495745 :  [{'code': 144, 'message': 'No status found with that ID.'}]\n",
      "869988702071779329 :  [{'code': 144, 'message': 'No status found with that ID.'}]\n",
      "866816280283807744 :  [{'code': 144, 'message': 'No status found with that ID.'}]\n",
      "861769973181624320 :  [{'code': 144, 'message': 'No status found with that ID.'}]\n",
      "856602993587888130 :  [{'code': 144, 'message': 'No status found with that ID.'}]\n",
      "851953902622658560 :  [{'code': 144, 'message': 'No status found with that ID.'}]\n",
      "845459076796616705 :  [{'code': 144, 'message': 'No status found with that ID.'}]\n",
      "844704788403113984 :  [{'code': 144, 'message': 'No status found with that ID.'}]\n",
      "842892208864923648 :  [{'code': 144, 'message': 'No status found with that ID.'}]\n",
      "837366284874571778 :  [{'code': 144, 'message': 'No status found with that ID.'}]\n",
      "837012587749474308 :  [{'code': 144, 'message': 'No status found with that ID.'}]\n",
      "829374341691346946 :  [{'code': 144, 'message': 'No status found with that ID.'}]\n",
      "827228250799742977 :  [{'code': 144, 'message': 'No status found with that ID.'}]\n",
      "812747805718642688 :  [{'code': 144, 'message': 'No status found with that ID.'}]\n",
      "802247111496568832 :  [{'code': 144, 'message': 'No status found with that ID.'}]\n",
      "779123168116150273 :  [{'code': 144, 'message': 'No status found with that ID.'}]\n",
      "775096608509886464 :  [{'code': 144, 'message': 'No status found with that ID.'}]\n",
      "771004394259247104 :  [{'code': 179, 'message': 'Sorry, you are not authorized to see this status.'}]\n",
      "770743923962707968 :  [{'code': 144, 'message': 'No status found with that ID.'}]\n",
      "759566828574212096 :  [{'code': 144, 'message': 'No status found with that ID.'}]\n",
      "Rate limit reached. Sleeping for: 739\n",
      "754011816964026368 :  [{'code': 144, 'message': 'No status found with that ID.'}]\n",
      "680055455951884288 :  [{'code': 144, 'message': 'No status found with that ID.'}]\n",
      "Rate limit reached. Sleeping for: 739\n",
      "Valid number of records:  2331\n"
     ]
    }
   ],
   "source": [
    "# querying data for each tweet ID from twitter_archive\n",
    "tweets = []\n",
    "exception_list = []\n",
    "\n",
    "for tid in twitter_archive['tweet_id']:\n",
    "    try:\n",
    "        tweet_info = api.get_status(tid,tweet_mode='extended')._json\n",
    "        favorite = tweet_info['favorite_count'] # how many favorite counts of this tweet id\n",
    "        retweet = tweet_info['retweet_count'] # how many retweets of this tweet id\n",
    "        tweet = {'tweet_id':int(tid),\n",
    "                 'favorite_count':int(favorite),\n",
    "                 'retweet_count':int(retweet)}\n",
    "        tweets.append(tweet)\n",
    "    except Exception as e:\n",
    "        exception_list.append(tid)\n",
    "        print(tid,': ',str(e))\n",
    "        \n",
    "print('Valid number of records: ',len(tweets))"
   ]
  },
  {
   "cell_type": "code",
   "execution_count": 9,
   "metadata": {},
   "outputs": [],
   "source": [
    "# write JSON data to the file named 'tweet_json.txt'\n",
    "with open('tweet_json.txt','w') as outfile:\n",
    "    json.dump(tweets,outfile)"
   ]
  },
  {
   "cell_type": "code",
   "execution_count": 10,
   "metadata": {},
   "outputs": [
    {
     "data": {
      "text/html": [
       "<div>\n",
       "<style scoped>\n",
       "    .dataframe tbody tr th:only-of-type {\n",
       "        vertical-align: middle;\n",
       "    }\n",
       "\n",
       "    .dataframe tbody tr th {\n",
       "        vertical-align: top;\n",
       "    }\n",
       "\n",
       "    .dataframe thead th {\n",
       "        text-align: right;\n",
       "    }\n",
       "</style>\n",
       "<table border=\"1\" class=\"dataframe\">\n",
       "  <thead>\n",
       "    <tr style=\"text-align: right;\">\n",
       "      <th></th>\n",
       "      <th>tweet_id</th>\n",
       "      <th>favorite_count</th>\n",
       "      <th>retweet_count</th>\n",
       "    </tr>\n",
       "  </thead>\n",
       "  <tbody>\n",
       "    <tr>\n",
       "      <th>0</th>\n",
       "      <td>892420643555336193</td>\n",
       "      <td>35376</td>\n",
       "      <td>7469</td>\n",
       "    </tr>\n",
       "    <tr>\n",
       "      <th>1</th>\n",
       "      <td>892177421306343426</td>\n",
       "      <td>30616</td>\n",
       "      <td>5545</td>\n",
       "    </tr>\n",
       "    <tr>\n",
       "      <th>2</th>\n",
       "      <td>891815181378084864</td>\n",
       "      <td>23031</td>\n",
       "      <td>3671</td>\n",
       "    </tr>\n",
       "    <tr>\n",
       "      <th>3</th>\n",
       "      <td>891689557279858688</td>\n",
       "      <td>38662</td>\n",
       "      <td>7645</td>\n",
       "    </tr>\n",
       "    <tr>\n",
       "      <th>4</th>\n",
       "      <td>891327558926688256</td>\n",
       "      <td>36945</td>\n",
       "      <td>8243</td>\n",
       "    </tr>\n",
       "  </tbody>\n",
       "</table>\n",
       "</div>"
      ],
      "text/plain": [
       "             tweet_id favorite_count retweet_count\n",
       "0  892420643555336193          35376          7469\n",
       "1  892177421306343426          30616          5545\n",
       "2  891815181378084864          23031          3671\n",
       "3  891689557279858688          38662          7645\n",
       "4  891327558926688256          36945          8243"
      ]
     },
     "execution_count": 10,
     "metadata": {},
     "output_type": "execute_result"
    }
   ],
   "source": [
    "# read data from json file and save to pandas dataframe\n",
    "tweets_info = pd.DataFrame(columns=['tweet_id','favorite_count','retweet_count'])    \n",
    "\n",
    "with open('tweet_json.txt') as json_file:\n",
    "    tweets = json.load(json_file)\n",
    "    for tweet in tweets:\n",
    "        tweet_info = {'tweet_id':tweet['tweet_id'],\n",
    "                      'favorite_count':tweet['favorite_count'],\n",
    "                      'retweet_count':tweet['retweet_count']}\n",
    "        tweets_info = tweets_info.append(tweet_info,ignore_index=True)\n",
    "tweets_info.head()"
   ]
  },
  {
   "cell_type": "markdown",
   "metadata": {},
   "source": [
    "<a id='assess'></a>\n",
    "# Assess"
   ]
  },
  {
   "cell_type": "code",
   "execution_count": 11,
   "metadata": {
    "scrolled": false
   },
   "outputs": [
    {
     "name": "stdout",
     "output_type": "stream",
     "text": [
      "<class 'pandas.core.frame.DataFrame'>\n",
      "RangeIndex: 2356 entries, 0 to 2355\n",
      "Data columns (total 17 columns):\n",
      "tweet_id                      2356 non-null int64\n",
      "in_reply_to_status_id         78 non-null float64\n",
      "in_reply_to_user_id           78 non-null float64\n",
      "timestamp                     2356 non-null object\n",
      "source                        2356 non-null object\n",
      "text                          2356 non-null object\n",
      "retweeted_status_id           181 non-null float64\n",
      "retweeted_status_user_id      181 non-null float64\n",
      "retweeted_status_timestamp    181 non-null object\n",
      "expanded_urls                 2297 non-null object\n",
      "rating_numerator              2356 non-null int64\n",
      "rating_denominator            2356 non-null int64\n",
      "name                          2356 non-null object\n",
      "doggo                         2356 non-null object\n",
      "floofer                       2356 non-null object\n",
      "pupper                        2356 non-null object\n",
      "puppo                         2356 non-null object\n",
      "dtypes: float64(4), int64(3), object(10)\n",
      "memory usage: 313.0+ KB\n"
     ]
    }
   ],
   "source": [
    "twitter_archive.info()"
   ]
  },
  {
   "cell_type": "code",
   "execution_count": 12,
   "metadata": {},
   "outputs": [
    {
     "data": {
      "text/html": [
       "<div>\n",
       "<style scoped>\n",
       "    .dataframe tbody tr th:only-of-type {\n",
       "        vertical-align: middle;\n",
       "    }\n",
       "\n",
       "    .dataframe tbody tr th {\n",
       "        vertical-align: top;\n",
       "    }\n",
       "\n",
       "    .dataframe thead th {\n",
       "        text-align: right;\n",
       "    }\n",
       "</style>\n",
       "<table border=\"1\" class=\"dataframe\">\n",
       "  <thead>\n",
       "    <tr style=\"text-align: right;\">\n",
       "      <th></th>\n",
       "      <th>tweet_id</th>\n",
       "      <th>in_reply_to_status_id</th>\n",
       "      <th>in_reply_to_user_id</th>\n",
       "      <th>retweeted_status_id</th>\n",
       "      <th>retweeted_status_user_id</th>\n",
       "      <th>rating_numerator</th>\n",
       "      <th>rating_denominator</th>\n",
       "    </tr>\n",
       "  </thead>\n",
       "  <tbody>\n",
       "    <tr>\n",
       "      <th>count</th>\n",
       "      <td>2.356000e+03</td>\n",
       "      <td>7.800000e+01</td>\n",
       "      <td>7.800000e+01</td>\n",
       "      <td>1.810000e+02</td>\n",
       "      <td>1.810000e+02</td>\n",
       "      <td>2356.000000</td>\n",
       "      <td>2356.000000</td>\n",
       "    </tr>\n",
       "    <tr>\n",
       "      <th>mean</th>\n",
       "      <td>7.427716e+17</td>\n",
       "      <td>7.455079e+17</td>\n",
       "      <td>2.014171e+16</td>\n",
       "      <td>7.720400e+17</td>\n",
       "      <td>1.241698e+16</td>\n",
       "      <td>13.126486</td>\n",
       "      <td>10.455433</td>\n",
       "    </tr>\n",
       "    <tr>\n",
       "      <th>std</th>\n",
       "      <td>6.856705e+16</td>\n",
       "      <td>7.582492e+16</td>\n",
       "      <td>1.252797e+17</td>\n",
       "      <td>6.236928e+16</td>\n",
       "      <td>9.599254e+16</td>\n",
       "      <td>45.876648</td>\n",
       "      <td>6.745237</td>\n",
       "    </tr>\n",
       "    <tr>\n",
       "      <th>min</th>\n",
       "      <td>6.660209e+17</td>\n",
       "      <td>6.658147e+17</td>\n",
       "      <td>1.185634e+07</td>\n",
       "      <td>6.661041e+17</td>\n",
       "      <td>7.832140e+05</td>\n",
       "      <td>0.000000</td>\n",
       "      <td>0.000000</td>\n",
       "    </tr>\n",
       "    <tr>\n",
       "      <th>25%</th>\n",
       "      <td>6.783989e+17</td>\n",
       "      <td>6.757419e+17</td>\n",
       "      <td>3.086374e+08</td>\n",
       "      <td>7.186315e+17</td>\n",
       "      <td>4.196984e+09</td>\n",
       "      <td>10.000000</td>\n",
       "      <td>10.000000</td>\n",
       "    </tr>\n",
       "    <tr>\n",
       "      <th>50%</th>\n",
       "      <td>7.196279e+17</td>\n",
       "      <td>7.038708e+17</td>\n",
       "      <td>4.196984e+09</td>\n",
       "      <td>7.804657e+17</td>\n",
       "      <td>4.196984e+09</td>\n",
       "      <td>11.000000</td>\n",
       "      <td>10.000000</td>\n",
       "    </tr>\n",
       "    <tr>\n",
       "      <th>75%</th>\n",
       "      <td>7.993373e+17</td>\n",
       "      <td>8.257804e+17</td>\n",
       "      <td>4.196984e+09</td>\n",
       "      <td>8.203146e+17</td>\n",
       "      <td>4.196984e+09</td>\n",
       "      <td>12.000000</td>\n",
       "      <td>10.000000</td>\n",
       "    </tr>\n",
       "    <tr>\n",
       "      <th>max</th>\n",
       "      <td>8.924206e+17</td>\n",
       "      <td>8.862664e+17</td>\n",
       "      <td>8.405479e+17</td>\n",
       "      <td>8.874740e+17</td>\n",
       "      <td>7.874618e+17</td>\n",
       "      <td>1776.000000</td>\n",
       "      <td>170.000000</td>\n",
       "    </tr>\n",
       "  </tbody>\n",
       "</table>\n",
       "</div>"
      ],
      "text/plain": [
       "           tweet_id  in_reply_to_status_id  in_reply_to_user_id  \\\n",
       "count  2.356000e+03           7.800000e+01         7.800000e+01   \n",
       "mean   7.427716e+17           7.455079e+17         2.014171e+16   \n",
       "std    6.856705e+16           7.582492e+16         1.252797e+17   \n",
       "min    6.660209e+17           6.658147e+17         1.185634e+07   \n",
       "25%    6.783989e+17           6.757419e+17         3.086374e+08   \n",
       "50%    7.196279e+17           7.038708e+17         4.196984e+09   \n",
       "75%    7.993373e+17           8.257804e+17         4.196984e+09   \n",
       "max    8.924206e+17           8.862664e+17         8.405479e+17   \n",
       "\n",
       "       retweeted_status_id  retweeted_status_user_id  rating_numerator  \\\n",
       "count         1.810000e+02              1.810000e+02       2356.000000   \n",
       "mean          7.720400e+17              1.241698e+16         13.126486   \n",
       "std           6.236928e+16              9.599254e+16         45.876648   \n",
       "min           6.661041e+17              7.832140e+05          0.000000   \n",
       "25%           7.186315e+17              4.196984e+09         10.000000   \n",
       "50%           7.804657e+17              4.196984e+09         11.000000   \n",
       "75%           8.203146e+17              4.196984e+09         12.000000   \n",
       "max           8.874740e+17              7.874618e+17       1776.000000   \n",
       "\n",
       "       rating_denominator  \n",
       "count         2356.000000  \n",
       "mean            10.455433  \n",
       "std              6.745237  \n",
       "min              0.000000  \n",
       "25%             10.000000  \n",
       "50%             10.000000  \n",
       "75%             10.000000  \n",
       "max            170.000000  "
      ]
     },
     "execution_count": 12,
     "metadata": {},
     "output_type": "execute_result"
    }
   ],
   "source": [
    "twitter_archive.describe()"
   ]
  },
  {
   "cell_type": "code",
   "execution_count": 13,
   "metadata": {},
   "outputs": [
    {
     "data": {
      "text/plain": [
       "0"
      ]
     },
     "execution_count": 13,
     "metadata": {},
     "output_type": "execute_result"
    }
   ],
   "source": [
    "twitter_archive.tweet_id.duplicated().sum()"
   ]
  },
  {
   "cell_type": "code",
   "execution_count": 14,
   "metadata": {},
   "outputs": [
    {
     "data": {
      "text/html": [
       "<div>\n",
       "<style scoped>\n",
       "    .dataframe tbody tr th:only-of-type {\n",
       "        vertical-align: middle;\n",
       "    }\n",
       "\n",
       "    .dataframe tbody tr th {\n",
       "        vertical-align: top;\n",
       "    }\n",
       "\n",
       "    .dataframe thead th {\n",
       "        text-align: right;\n",
       "    }\n",
       "</style>\n",
       "<table border=\"1\" class=\"dataframe\">\n",
       "  <thead>\n",
       "    <tr style=\"text-align: right;\">\n",
       "      <th></th>\n",
       "      <th>tweet_id</th>\n",
       "      <th>in_reply_to_status_id</th>\n",
       "      <th>in_reply_to_user_id</th>\n",
       "      <th>timestamp</th>\n",
       "      <th>source</th>\n",
       "      <th>text</th>\n",
       "      <th>retweeted_status_id</th>\n",
       "      <th>retweeted_status_user_id</th>\n",
       "      <th>retweeted_status_timestamp</th>\n",
       "      <th>expanded_urls</th>\n",
       "      <th>rating_numerator</th>\n",
       "      <th>rating_denominator</th>\n",
       "      <th>name</th>\n",
       "      <th>doggo</th>\n",
       "      <th>floofer</th>\n",
       "      <th>pupper</th>\n",
       "      <th>puppo</th>\n",
       "    </tr>\n",
       "  </thead>\n",
       "  <tbody>\n",
       "    <tr>\n",
       "      <th>0</th>\n",
       "      <td>892420643555336193</td>\n",
       "      <td>NaN</td>\n",
       "      <td>NaN</td>\n",
       "      <td>2017-08-01 16:23:56 +0000</td>\n",
       "      <td>&lt;a href=\"http://twitter.com/download/iphone\" r...</td>\n",
       "      <td>This is Phineas. He's a mystical boy. Only eve...</td>\n",
       "      <td>NaN</td>\n",
       "      <td>NaN</td>\n",
       "      <td>NaN</td>\n",
       "      <td>https://twitter.com/dog_rates/status/892420643...</td>\n",
       "      <td>13</td>\n",
       "      <td>10</td>\n",
       "      <td>Phineas</td>\n",
       "      <td>None</td>\n",
       "      <td>None</td>\n",
       "      <td>None</td>\n",
       "      <td>None</td>\n",
       "    </tr>\n",
       "    <tr>\n",
       "      <th>1</th>\n",
       "      <td>892177421306343426</td>\n",
       "      <td>NaN</td>\n",
       "      <td>NaN</td>\n",
       "      <td>2017-08-01 00:17:27 +0000</td>\n",
       "      <td>&lt;a href=\"http://twitter.com/download/iphone\" r...</td>\n",
       "      <td>This is Tilly. She's just checking pup on you....</td>\n",
       "      <td>NaN</td>\n",
       "      <td>NaN</td>\n",
       "      <td>NaN</td>\n",
       "      <td>https://twitter.com/dog_rates/status/892177421...</td>\n",
       "      <td>13</td>\n",
       "      <td>10</td>\n",
       "      <td>Tilly</td>\n",
       "      <td>None</td>\n",
       "      <td>None</td>\n",
       "      <td>None</td>\n",
       "      <td>None</td>\n",
       "    </tr>\n",
       "    <tr>\n",
       "      <th>2</th>\n",
       "      <td>891815181378084864</td>\n",
       "      <td>NaN</td>\n",
       "      <td>NaN</td>\n",
       "      <td>2017-07-31 00:18:03 +0000</td>\n",
       "      <td>&lt;a href=\"http://twitter.com/download/iphone\" r...</td>\n",
       "      <td>This is Archie. He is a rare Norwegian Pouncin...</td>\n",
       "      <td>NaN</td>\n",
       "      <td>NaN</td>\n",
       "      <td>NaN</td>\n",
       "      <td>https://twitter.com/dog_rates/status/891815181...</td>\n",
       "      <td>12</td>\n",
       "      <td>10</td>\n",
       "      <td>Archie</td>\n",
       "      <td>None</td>\n",
       "      <td>None</td>\n",
       "      <td>None</td>\n",
       "      <td>None</td>\n",
       "    </tr>\n",
       "    <tr>\n",
       "      <th>3</th>\n",
       "      <td>891689557279858688</td>\n",
       "      <td>NaN</td>\n",
       "      <td>NaN</td>\n",
       "      <td>2017-07-30 15:58:51 +0000</td>\n",
       "      <td>&lt;a href=\"http://twitter.com/download/iphone\" r...</td>\n",
       "      <td>This is Darla. She commenced a snooze mid meal...</td>\n",
       "      <td>NaN</td>\n",
       "      <td>NaN</td>\n",
       "      <td>NaN</td>\n",
       "      <td>https://twitter.com/dog_rates/status/891689557...</td>\n",
       "      <td>13</td>\n",
       "      <td>10</td>\n",
       "      <td>Darla</td>\n",
       "      <td>None</td>\n",
       "      <td>None</td>\n",
       "      <td>None</td>\n",
       "      <td>None</td>\n",
       "    </tr>\n",
       "    <tr>\n",
       "      <th>4</th>\n",
       "      <td>891327558926688256</td>\n",
       "      <td>NaN</td>\n",
       "      <td>NaN</td>\n",
       "      <td>2017-07-29 16:00:24 +0000</td>\n",
       "      <td>&lt;a href=\"http://twitter.com/download/iphone\" r...</td>\n",
       "      <td>This is Franklin. He would like you to stop ca...</td>\n",
       "      <td>NaN</td>\n",
       "      <td>NaN</td>\n",
       "      <td>NaN</td>\n",
       "      <td>https://twitter.com/dog_rates/status/891327558...</td>\n",
       "      <td>12</td>\n",
       "      <td>10</td>\n",
       "      <td>Franklin</td>\n",
       "      <td>None</td>\n",
       "      <td>None</td>\n",
       "      <td>None</td>\n",
       "      <td>None</td>\n",
       "    </tr>\n",
       "  </tbody>\n",
       "</table>\n",
       "</div>"
      ],
      "text/plain": [
       "             tweet_id  in_reply_to_status_id  in_reply_to_user_id  \\\n",
       "0  892420643555336193                    NaN                  NaN   \n",
       "1  892177421306343426                    NaN                  NaN   \n",
       "2  891815181378084864                    NaN                  NaN   \n",
       "3  891689557279858688                    NaN                  NaN   \n",
       "4  891327558926688256                    NaN                  NaN   \n",
       "\n",
       "                   timestamp  \\\n",
       "0  2017-08-01 16:23:56 +0000   \n",
       "1  2017-08-01 00:17:27 +0000   \n",
       "2  2017-07-31 00:18:03 +0000   \n",
       "3  2017-07-30 15:58:51 +0000   \n",
       "4  2017-07-29 16:00:24 +0000   \n",
       "\n",
       "                                              source  \\\n",
       "0  <a href=\"http://twitter.com/download/iphone\" r...   \n",
       "1  <a href=\"http://twitter.com/download/iphone\" r...   \n",
       "2  <a href=\"http://twitter.com/download/iphone\" r...   \n",
       "3  <a href=\"http://twitter.com/download/iphone\" r...   \n",
       "4  <a href=\"http://twitter.com/download/iphone\" r...   \n",
       "\n",
       "                                                text  retweeted_status_id  \\\n",
       "0  This is Phineas. He's a mystical boy. Only eve...                  NaN   \n",
       "1  This is Tilly. She's just checking pup on you....                  NaN   \n",
       "2  This is Archie. He is a rare Norwegian Pouncin...                  NaN   \n",
       "3  This is Darla. She commenced a snooze mid meal...                  NaN   \n",
       "4  This is Franklin. He would like you to stop ca...                  NaN   \n",
       "\n",
       "   retweeted_status_user_id retweeted_status_timestamp  \\\n",
       "0                       NaN                        NaN   \n",
       "1                       NaN                        NaN   \n",
       "2                       NaN                        NaN   \n",
       "3                       NaN                        NaN   \n",
       "4                       NaN                        NaN   \n",
       "\n",
       "                                       expanded_urls  rating_numerator  \\\n",
       "0  https://twitter.com/dog_rates/status/892420643...                13   \n",
       "1  https://twitter.com/dog_rates/status/892177421...                13   \n",
       "2  https://twitter.com/dog_rates/status/891815181...                12   \n",
       "3  https://twitter.com/dog_rates/status/891689557...                13   \n",
       "4  https://twitter.com/dog_rates/status/891327558...                12   \n",
       "\n",
       "   rating_denominator      name doggo floofer pupper puppo  \n",
       "0                  10   Phineas  None    None   None  None  \n",
       "1                  10     Tilly  None    None   None  None  \n",
       "2                  10    Archie  None    None   None  None  \n",
       "3                  10     Darla  None    None   None  None  \n",
       "4                  10  Franklin  None    None   None  None  "
      ]
     },
     "execution_count": 14,
     "metadata": {},
     "output_type": "execute_result"
    }
   ],
   "source": [
    "twitter_archive.head(5)"
   ]
  },
  {
   "cell_type": "code",
   "execution_count": 15,
   "metadata": {},
   "outputs": [
    {
     "name": "stdout",
     "output_type": "stream",
     "text": [
      "<class 'pandas.core.frame.DataFrame'>\n",
      "RangeIndex: 2075 entries, 0 to 2074\n",
      "Data columns (total 12 columns):\n",
      "tweet_id    2075 non-null int64\n",
      "jpg_url     2075 non-null object\n",
      "img_num     2075 non-null int64\n",
      "p1          2075 non-null object\n",
      "p1_conf     2075 non-null float64\n",
      "p1_dog      2075 non-null bool\n",
      "p2          2075 non-null object\n",
      "p2_conf     2075 non-null float64\n",
      "p2_dog      2075 non-null bool\n",
      "p3          2075 non-null object\n",
      "p3_conf     2075 non-null float64\n",
      "p3_dog      2075 non-null bool\n",
      "dtypes: bool(3), float64(3), int64(2), object(4)\n",
      "memory usage: 152.1+ KB\n"
     ]
    }
   ],
   "source": [
    "image_prediction.info()"
   ]
  },
  {
   "cell_type": "code",
   "execution_count": 16,
   "metadata": {},
   "outputs": [
    {
     "data": {
      "text/plain": [
       "0"
      ]
     },
     "execution_count": 16,
     "metadata": {},
     "output_type": "execute_result"
    }
   ],
   "source": [
    "image_prediction.tweet_id.duplicated().sum()"
   ]
  },
  {
   "cell_type": "code",
   "execution_count": 17,
   "metadata": {},
   "outputs": [
    {
     "data": {
      "text/html": [
       "<div>\n",
       "<style scoped>\n",
       "    .dataframe tbody tr th:only-of-type {\n",
       "        vertical-align: middle;\n",
       "    }\n",
       "\n",
       "    .dataframe tbody tr th {\n",
       "        vertical-align: top;\n",
       "    }\n",
       "\n",
       "    .dataframe thead th {\n",
       "        text-align: right;\n",
       "    }\n",
       "</style>\n",
       "<table border=\"1\" class=\"dataframe\">\n",
       "  <thead>\n",
       "    <tr style=\"text-align: right;\">\n",
       "      <th></th>\n",
       "      <th>tweet_id</th>\n",
       "      <th>jpg_url</th>\n",
       "      <th>img_num</th>\n",
       "      <th>p1</th>\n",
       "      <th>p1_conf</th>\n",
       "      <th>p1_dog</th>\n",
       "      <th>p2</th>\n",
       "      <th>p2_conf</th>\n",
       "      <th>p2_dog</th>\n",
       "      <th>p3</th>\n",
       "      <th>p3_conf</th>\n",
       "      <th>p3_dog</th>\n",
       "    </tr>\n",
       "  </thead>\n",
       "  <tbody>\n",
       "    <tr>\n",
       "      <th>1463</th>\n",
       "      <td>778396591732486144</td>\n",
       "      <td>https://pbs.twimg.com/media/CcG07BYW0AErrC9.jpg</td>\n",
       "      <td>1</td>\n",
       "      <td>hippopotamus</td>\n",
       "      <td>0.581403</td>\n",
       "      <td>False</td>\n",
       "      <td>doormat</td>\n",
       "      <td>0.152445</td>\n",
       "      <td>False</td>\n",
       "      <td>sea_lion</td>\n",
       "      <td>0.026364</td>\n",
       "      <td>False</td>\n",
       "    </tr>\n",
       "    <tr>\n",
       "      <th>21</th>\n",
       "      <td>666293911632134144</td>\n",
       "      <td>https://pbs.twimg.com/media/CT8mx7KW4AEQu8N.jpg</td>\n",
       "      <td>1</td>\n",
       "      <td>three-toed_sloth</td>\n",
       "      <td>0.914671</td>\n",
       "      <td>False</td>\n",
       "      <td>otter</td>\n",
       "      <td>0.015250</td>\n",
       "      <td>False</td>\n",
       "      <td>great_grey_owl</td>\n",
       "      <td>0.013207</td>\n",
       "      <td>False</td>\n",
       "    </tr>\n",
       "    <tr>\n",
       "      <th>1879</th>\n",
       "      <td>846514051647705089</td>\n",
       "      <td>https://pbs.twimg.com/media/C79sB4xXwAEvwKY.jpg</td>\n",
       "      <td>2</td>\n",
       "      <td>golden_retriever</td>\n",
       "      <td>0.650003</td>\n",
       "      <td>True</td>\n",
       "      <td>Leonberg</td>\n",
       "      <td>0.065199</td>\n",
       "      <td>True</td>\n",
       "      <td>Norfolk_terrier</td>\n",
       "      <td>0.052955</td>\n",
       "      <td>True</td>\n",
       "    </tr>\n",
       "    <tr>\n",
       "      <th>986</th>\n",
       "      <td>707693576495472641</td>\n",
       "      <td>https://pbs.twimg.com/media/CdI7jDnW0AA2dtO.jpg</td>\n",
       "      <td>1</td>\n",
       "      <td>bathtub</td>\n",
       "      <td>0.499525</td>\n",
       "      <td>False</td>\n",
       "      <td>tub</td>\n",
       "      <td>0.488014</td>\n",
       "      <td>False</td>\n",
       "      <td>washbasin</td>\n",
       "      <td>0.009298</td>\n",
       "      <td>False</td>\n",
       "    </tr>\n",
       "    <tr>\n",
       "      <th>622</th>\n",
       "      <td>680497766108381184</td>\n",
       "      <td>https://pbs.twimg.com/media/CXGdG0aWcAEbOO1.jpg</td>\n",
       "      <td>1</td>\n",
       "      <td>Chihuahua</td>\n",
       "      <td>0.538354</td>\n",
       "      <td>True</td>\n",
       "      <td>muzzle</td>\n",
       "      <td>0.084289</td>\n",
       "      <td>False</td>\n",
       "      <td>ski_mask</td>\n",
       "      <td>0.076690</td>\n",
       "      <td>False</td>\n",
       "    </tr>\n",
       "  </tbody>\n",
       "</table>\n",
       "</div>"
      ],
      "text/plain": [
       "                tweet_id                                          jpg_url  \\\n",
       "1463  778396591732486144  https://pbs.twimg.com/media/CcG07BYW0AErrC9.jpg   \n",
       "21    666293911632134144  https://pbs.twimg.com/media/CT8mx7KW4AEQu8N.jpg   \n",
       "1879  846514051647705089  https://pbs.twimg.com/media/C79sB4xXwAEvwKY.jpg   \n",
       "986   707693576495472641  https://pbs.twimg.com/media/CdI7jDnW0AA2dtO.jpg   \n",
       "622   680497766108381184  https://pbs.twimg.com/media/CXGdG0aWcAEbOO1.jpg   \n",
       "\n",
       "      img_num                p1   p1_conf  p1_dog        p2   p2_conf  p2_dog  \\\n",
       "1463        1      hippopotamus  0.581403   False   doormat  0.152445   False   \n",
       "21          1  three-toed_sloth  0.914671   False     otter  0.015250   False   \n",
       "1879        2  golden_retriever  0.650003    True  Leonberg  0.065199    True   \n",
       "986         1           bathtub  0.499525   False       tub  0.488014   False   \n",
       "622         1         Chihuahua  0.538354    True    muzzle  0.084289   False   \n",
       "\n",
       "                   p3   p3_conf  p3_dog  \n",
       "1463         sea_lion  0.026364   False  \n",
       "21     great_grey_owl  0.013207   False  \n",
       "1879  Norfolk_terrier  0.052955    True  \n",
       "986         washbasin  0.009298   False  \n",
       "622          ski_mask  0.076690   False  "
      ]
     },
     "execution_count": 17,
     "metadata": {},
     "output_type": "execute_result"
    }
   ],
   "source": [
    "image_prediction.sample(5)"
   ]
  },
  {
   "cell_type": "code",
   "execution_count": 18,
   "metadata": {},
   "outputs": [
    {
     "data": {
      "text/plain": [
       "66"
      ]
     },
     "execution_count": 18,
     "metadata": {},
     "output_type": "execute_result"
    }
   ],
   "source": [
    "image_prediction.jpg_url.duplicated().sum()"
   ]
  },
  {
   "cell_type": "code",
   "execution_count": 19,
   "metadata": {},
   "outputs": [
    {
     "data": {
      "text/html": [
       "<div>\n",
       "<style scoped>\n",
       "    .dataframe tbody tr th:only-of-type {\n",
       "        vertical-align: middle;\n",
       "    }\n",
       "\n",
       "    .dataframe tbody tr th {\n",
       "        vertical-align: top;\n",
       "    }\n",
       "\n",
       "    .dataframe thead th {\n",
       "        text-align: right;\n",
       "    }\n",
       "</style>\n",
       "<table border=\"1\" class=\"dataframe\">\n",
       "  <thead>\n",
       "    <tr style=\"text-align: right;\">\n",
       "      <th></th>\n",
       "      <th>tweet_id</th>\n",
       "      <th>jpg_url</th>\n",
       "      <th>img_num</th>\n",
       "      <th>p1</th>\n",
       "      <th>p1_conf</th>\n",
       "      <th>p1_dog</th>\n",
       "      <th>p2</th>\n",
       "      <th>p2_conf</th>\n",
       "      <th>p2_dog</th>\n",
       "      <th>p3</th>\n",
       "      <th>p3_conf</th>\n",
       "      <th>p3_dog</th>\n",
       "    </tr>\n",
       "  </thead>\n",
       "  <tbody>\n",
       "    <tr>\n",
       "      <th>1715</th>\n",
       "      <td>819004803107983360</td>\n",
       "      <td>https://pbs.twimg.com/media/C12whDoVEAALRxa.jpg</td>\n",
       "      <td>1</td>\n",
       "      <td>standard_poodle</td>\n",
       "      <td>0.351308</td>\n",
       "      <td>True</td>\n",
       "      <td>toy_poodle</td>\n",
       "      <td>0.271929</td>\n",
       "      <td>True</td>\n",
       "      <td>Tibetan_terrier</td>\n",
       "      <td>0.094759</td>\n",
       "      <td>True</td>\n",
       "    </tr>\n",
       "    <tr>\n",
       "      <th>1718</th>\n",
       "      <td>819015337530290176</td>\n",
       "      <td>https://pbs.twimg.com/media/C12whDoVEAALRxa.jpg</td>\n",
       "      <td>1</td>\n",
       "      <td>standard_poodle</td>\n",
       "      <td>0.351308</td>\n",
       "      <td>True</td>\n",
       "      <td>toy_poodle</td>\n",
       "      <td>0.271929</td>\n",
       "      <td>True</td>\n",
       "      <td>Tibetan_terrier</td>\n",
       "      <td>0.094759</td>\n",
       "      <td>True</td>\n",
       "    </tr>\n",
       "  </tbody>\n",
       "</table>\n",
       "</div>"
      ],
      "text/plain": [
       "                tweet_id                                          jpg_url  \\\n",
       "1715  819004803107983360  https://pbs.twimg.com/media/C12whDoVEAALRxa.jpg   \n",
       "1718  819015337530290176  https://pbs.twimg.com/media/C12whDoVEAALRxa.jpg   \n",
       "\n",
       "      img_num               p1   p1_conf  p1_dog          p2   p2_conf  \\\n",
       "1715        1  standard_poodle  0.351308    True  toy_poodle  0.271929   \n",
       "1718        1  standard_poodle  0.351308    True  toy_poodle  0.271929   \n",
       "\n",
       "      p2_dog               p3   p3_conf  p3_dog  \n",
       "1715    True  Tibetan_terrier  0.094759    True  \n",
       "1718    True  Tibetan_terrier  0.094759    True  "
      ]
     },
     "execution_count": 19,
     "metadata": {},
     "output_type": "execute_result"
    }
   ],
   "source": [
    "image_prediction[image_prediction.jpg_url =='https://pbs.twimg.com/media/C12whDoVEAALRxa.jpg']"
   ]
  },
  {
   "cell_type": "code",
   "execution_count": 20,
   "metadata": {
    "scrolled": true
   },
   "outputs": [
    {
     "name": "stdout",
     "output_type": "stream",
     "text": [
      "<class 'pandas.core.frame.DataFrame'>\n",
      "RangeIndex: 2331 entries, 0 to 2330\n",
      "Data columns (total 3 columns):\n",
      "tweet_id          2331 non-null object\n",
      "favorite_count    2331 non-null object\n",
      "retweet_count     2331 non-null object\n",
      "dtypes: object(3)\n",
      "memory usage: 54.7+ KB\n"
     ]
    }
   ],
   "source": [
    "tweets_info.info()"
   ]
  },
  {
   "cell_type": "code",
   "execution_count": 21,
   "metadata": {},
   "outputs": [
    {
     "data": {
      "text/plain": [
       "0"
      ]
     },
     "execution_count": 21,
     "metadata": {},
     "output_type": "execute_result"
    }
   ],
   "source": [
    "tweets_info.tweet_id.duplicated().sum()"
   ]
  },
  {
   "cell_type": "code",
   "execution_count": 22,
   "metadata": {},
   "outputs": [
    {
     "data": {
      "text/html": [
       "<div>\n",
       "<style scoped>\n",
       "    .dataframe tbody tr th:only-of-type {\n",
       "        vertical-align: middle;\n",
       "    }\n",
       "\n",
       "    .dataframe tbody tr th {\n",
       "        vertical-align: top;\n",
       "    }\n",
       "\n",
       "    .dataframe thead th {\n",
       "        text-align: right;\n",
       "    }\n",
       "</style>\n",
       "<table border=\"1\" class=\"dataframe\">\n",
       "  <thead>\n",
       "    <tr style=\"text-align: right;\">\n",
       "      <th></th>\n",
       "      <th>tweet_id</th>\n",
       "      <th>favorite_count</th>\n",
       "      <th>retweet_count</th>\n",
       "    </tr>\n",
       "  </thead>\n",
       "  <tbody>\n",
       "    <tr>\n",
       "      <th>102</th>\n",
       "      <td>871879754684805121</td>\n",
       "      <td>34712</td>\n",
       "      <td>9795</td>\n",
       "    </tr>\n",
       "    <tr>\n",
       "      <th>1304</th>\n",
       "      <td>705970349788291072</td>\n",
       "      <td>3093</td>\n",
       "      <td>866</td>\n",
       "    </tr>\n",
       "    <tr>\n",
       "      <th>393</th>\n",
       "      <td>823333489516937216</td>\n",
       "      <td>694</td>\n",
       "      <td>22</td>\n",
       "    </tr>\n",
       "    <tr>\n",
       "      <th>566</th>\n",
       "      <td>800141422401830912</td>\n",
       "      <td>15237</td>\n",
       "      <td>2537</td>\n",
       "    </tr>\n",
       "    <tr>\n",
       "      <th>98</th>\n",
       "      <td>872820683541237760</td>\n",
       "      <td>13625</td>\n",
       "      <td>3331</td>\n",
       "    </tr>\n",
       "  </tbody>\n",
       "</table>\n",
       "</div>"
      ],
      "text/plain": [
       "                tweet_id favorite_count retweet_count\n",
       "102   871879754684805121          34712          9795\n",
       "1304  705970349788291072           3093           866\n",
       "393   823333489516937216            694            22\n",
       "566   800141422401830912          15237          2537\n",
       "98    872820683541237760          13625          3331"
      ]
     },
     "execution_count": 22,
     "metadata": {},
     "output_type": "execute_result"
    }
   ],
   "source": [
    "tweets_info.sample(5)"
   ]
  },
  {
   "cell_type": "markdown",
   "metadata": {},
   "source": [
    "### Quality Issue\n",
    "#### twitter_archive\n",
    "* Column tweet_id should be converted to str type.\n",
    "* Columns timestamp need to be converted to timestamp type\n",
    "* Un-useful columns need to be removed, such as in_reply_to_status_id, in_reply_to_user_id, retweeted_status_id, retweeted_status_user_id, and retweeted_status_timestamp    \n",
    "* Columns rating_numerator and rating_denominator should be converted to float datatype, and they have invalid values\n",
    "* Invalid None value in column name, should be NaN\n",
    "\n",
    "#### image_prediction\n",
    "* Column tweet_id should be converted to str type.\n",
    "* Un-useful columns need to be removed\n",
    "* Duplicated jpg_url values, which possibly indicate retweet vs original tweet\n",
    "\n",
    "#### tweets_info\n",
    "* Column tweet_id should be converted to str type.\n",
    "* Columns favorite_count and retweet_count should be converted to int type\n",
    "\n",
    "### Tidiness Issue\n",
    "* Data from separate tables need to be merged\n",
    "* Need to melt columns doggo, floofer, pupper and puppo, and create a single column 'stage' to consolidate the information\n",
    "\n",
    "<a id='clean'></a>\n",
    "# Clean"
   ]
  },
  {
   "cell_type": "code",
   "execution_count": 23,
   "metadata": {},
   "outputs": [],
   "source": [
    "# create a copy of these three dataframes\n",
    "twitter_archive_cln = twitter_archive.copy()\n",
    "image_prediction_cln = image_prediction.copy()\n",
    "tweets_info_cln = tweets_info.copy()"
   ]
  },
  {
   "cell_type": "markdown",
   "metadata": {},
   "source": [
    "#### _Define_:\n",
    "Convert datatype for Id columns, timestamp column as well as numeric count columns."
   ]
  },
  {
   "cell_type": "markdown",
   "metadata": {},
   "source": [
    "#### _Code_:"
   ]
  },
  {
   "cell_type": "code",
   "execution_count": 24,
   "metadata": {},
   "outputs": [],
   "source": [
    "# convert id columns to string type\n",
    "twitter_archive_cln['tweet_id'] = twitter_archive_cln['tweet_id'].astype(str)\n",
    "image_prediction_cln['tweet_id'] = image_prediction_cln['tweet_id'].astype(str)\n",
    "tweets_info_cln['tweet_id'] = tweets_info_cln['tweet_id'].astype(str)\n",
    "\n",
    "# convert timestamp column to timestamp datatype\n",
    "twitter_archive_cln['timestamp'] = pd.to_datetime(twitter_archive_cln['timestamp'])\n",
    "\n",
    "# convert counts columns to numeric datatype\n",
    "tweets_info_cln['favorite_count'] = tweets_info_cln['favorite_count'].astype(int)\n",
    "tweets_info_cln['retweet_count'] = tweets_info_cln['retweet_count'].astype(int)"
   ]
  },
  {
   "cell_type": "markdown",
   "metadata": {},
   "source": [
    "#### _Test_:"
   ]
  },
  {
   "cell_type": "code",
   "execution_count": 25,
   "metadata": {},
   "outputs": [
    {
     "data": {
      "text/plain": [
       "(dtype('O'),\n",
       " dtype('O'),\n",
       " dtype('O'),\n",
       " dtype('<M8[ns]'),\n",
       " dtype('int64'),\n",
       " dtype('int64'))"
      ]
     },
     "execution_count": 25,
     "metadata": {},
     "output_type": "execute_result"
    }
   ],
   "source": [
    "# to confirm if datatype conversion is successful\n",
    "twitter_archive_cln.tweet_id.dtype,image_prediction_cln.tweet_id.dtype,tweets_info_cln.tweet_id.dtype,twitter_archive_cln.timestamp.dtype,tweets_info_cln.favorite_count.dtype,tweets_info_cln.retweet_count.dtype"
   ]
  },
  {
   "cell_type": "code",
   "execution_count": 26,
   "metadata": {},
   "outputs": [
    {
     "data": {
      "text/plain": [
       "(str, str, str, pandas._libs.tslibs.timestamps.Timestamp)"
      ]
     },
     "execution_count": 26,
     "metadata": {},
     "output_type": "execute_result"
    }
   ],
   "source": [
    "# to further test if the object type of columns contain actual string type of value\n",
    "type(twitter_archive_cln.tweet_id.loc[0]),type(image_prediction_cln.tweet_id.loc[0]),type(tweets_info_cln.tweet_id.loc[0]),type(twitter_archive_cln.timestamp.loc[0])"
   ]
  },
  {
   "cell_type": "markdown",
   "metadata": {},
   "source": [
    "#### _Define_:\n",
    "Merge separate dataframes and create a consolidated dataframe *tweet_merge_cln*"
   ]
  },
  {
   "cell_type": "markdown",
   "metadata": {},
   "source": [
    "#### _Code_:"
   ]
  },
  {
   "cell_type": "code",
   "execution_count": 27,
   "metadata": {},
   "outputs": [],
   "source": [
    "# merge the separate tables based on their common data field tweet_id\n",
    "tweet_merge_cln = pd.merge(left=twitter_archive_cln,right=image_prediction_cln,\n",
    "                           left_on='tweet_id',right_on='tweet_id',how='inner')\n",
    "tweet_merge_cln = pd.merge(left=tweet_merge_cln,right=tweets_info_cln,\n",
    "                           left_on='tweet_id',right_on='tweet_id',how='inner')"
   ]
  },
  {
   "cell_type": "markdown",
   "metadata": {},
   "source": [
    "#### _Test_:"
   ]
  },
  {
   "cell_type": "code",
   "execution_count": 28,
   "metadata": {},
   "outputs": [
    {
     "name": "stdout",
     "output_type": "stream",
     "text": [
      "<class 'pandas.core.frame.DataFrame'>\n",
      "Int64Index: 2059 entries, 0 to 2058\n",
      "Data columns (total 30 columns):\n",
      "tweet_id                      2059 non-null object\n",
      "in_reply_to_status_id         23 non-null float64\n",
      "in_reply_to_user_id           23 non-null float64\n",
      "timestamp                     2059 non-null datetime64[ns]\n",
      "source                        2059 non-null object\n",
      "text                          2059 non-null object\n",
      "retweeted_status_id           72 non-null float64\n",
      "retweeted_status_user_id      72 non-null float64\n",
      "retweeted_status_timestamp    72 non-null object\n",
      "expanded_urls                 2059 non-null object\n",
      "rating_numerator              2059 non-null int64\n",
      "rating_denominator            2059 non-null int64\n",
      "name                          2059 non-null object\n",
      "doggo                         2059 non-null object\n",
      "floofer                       2059 non-null object\n",
      "pupper                        2059 non-null object\n",
      "puppo                         2059 non-null object\n",
      "jpg_url                       2059 non-null object\n",
      "img_num                       2059 non-null int64\n",
      "p1                            2059 non-null object\n",
      "p1_conf                       2059 non-null float64\n",
      "p1_dog                        2059 non-null bool\n",
      "p2                            2059 non-null object\n",
      "p2_conf                       2059 non-null float64\n",
      "p2_dog                        2059 non-null bool\n",
      "p3                            2059 non-null object\n",
      "p3_conf                       2059 non-null float64\n",
      "p3_dog                        2059 non-null bool\n",
      "favorite_count                2059 non-null int64\n",
      "retweet_count                 2059 non-null int64\n",
      "dtypes: bool(3), datetime64[ns](1), float64(7), int64(5), object(14)\n",
      "memory usage: 456.4+ KB\n"
     ]
    }
   ],
   "source": [
    "tweet_merge_cln.info()"
   ]
  },
  {
   "cell_type": "markdown",
   "metadata": {},
   "source": [
    "#### _Define_:\n",
    "Remove un-useful columns, such as in_reply_to_status_id, in_reply_to_user_id, retweeted_status_id, retweeted_status_user_id, and retweeted_status_timestamp from the original twitter_archive_cln dataframe, as well as jpg_url\tand img_num from the original image_prediction_cln dataframe."
   ]
  },
  {
   "cell_type": "markdown",
   "metadata": {},
   "source": [
    "#### _Code_:"
   ]
  },
  {
   "cell_type": "code",
   "execution_count": 29,
   "metadata": {},
   "outputs": [],
   "source": [
    "tweet_merge_cln = tweet_merge_cln.drop(['source','expanded_urls','in_reply_to_status_id','in_reply_to_user_id','retweeted_status_user_id','retweeted_status_timestamp'],axis=1)\n",
    "tweet_merge_cln = tweet_merge_cln.drop(['img_num'],axis=1)"
   ]
  },
  {
   "cell_type": "markdown",
   "metadata": {},
   "source": [
    "#### _Test_:"
   ]
  },
  {
   "cell_type": "code",
   "execution_count": 30,
   "metadata": {},
   "outputs": [
    {
     "name": "stdout",
     "output_type": "stream",
     "text": [
      "<class 'pandas.core.frame.DataFrame'>\n",
      "Int64Index: 2059 entries, 0 to 2058\n",
      "Data columns (total 23 columns):\n",
      "tweet_id               2059 non-null object\n",
      "timestamp              2059 non-null datetime64[ns]\n",
      "text                   2059 non-null object\n",
      "retweeted_status_id    72 non-null float64\n",
      "rating_numerator       2059 non-null int64\n",
      "rating_denominator     2059 non-null int64\n",
      "name                   2059 non-null object\n",
      "doggo                  2059 non-null object\n",
      "floofer                2059 non-null object\n",
      "pupper                 2059 non-null object\n",
      "puppo                  2059 non-null object\n",
      "jpg_url                2059 non-null object\n",
      "p1                     2059 non-null object\n",
      "p1_conf                2059 non-null float64\n",
      "p1_dog                 2059 non-null bool\n",
      "p2                     2059 non-null object\n",
      "p2_conf                2059 non-null float64\n",
      "p2_dog                 2059 non-null bool\n",
      "p3                     2059 non-null object\n",
      "p3_conf                2059 non-null float64\n",
      "p3_dog                 2059 non-null bool\n",
      "favorite_count         2059 non-null int64\n",
      "retweet_count          2059 non-null int64\n",
      "dtypes: bool(3), datetime64[ns](1), float64(4), int64(4), object(11)\n",
      "memory usage: 343.8+ KB\n"
     ]
    }
   ],
   "source": [
    "tweet_merge_cln.info()"
   ]
  },
  {
   "cell_type": "markdown",
   "metadata": {},
   "source": [
    "#### _Define_:\n",
    "Column rating_denominator should be converted to float datatype, and it has invalid values.\n",
    "\n",
    "According to the project description, these dog ratings almost always have a denominator of 10. Based on the description of the ratings data, I noticed that the min and max of rating denominator is 2 and 170 respectively, which does not align with the assumption. I will remove rows with a rating_denominator different than 10.\n"
   ]
  },
  {
   "cell_type": "markdown",
   "metadata": {},
   "source": [
    "#### _Code_:"
   ]
  },
  {
   "cell_type": "code",
   "execution_count": 31,
   "metadata": {},
   "outputs": [],
   "source": [
    "tweet_merge_cln['rating_denominator'] = tweet_merge_cln['rating_denominator'].astype(float)"
   ]
  },
  {
   "cell_type": "code",
   "execution_count": 32,
   "metadata": {},
   "outputs": [
    {
     "data": {
      "text/plain": [
       "10.0     2041\n",
       "50.0        3\n",
       "80.0        2\n",
       "11.0        2\n",
       "150.0       1\n",
       "110.0       1\n",
       "90.0        1\n",
       "130.0       1\n",
       "70.0        1\n",
       "170.0       1\n",
       "2.0         1\n",
       "120.0       1\n",
       "40.0        1\n",
       "20.0        1\n",
       "7.0         1\n",
       "Name: rating_denominator, dtype: int64"
      ]
     },
     "execution_count": 32,
     "metadata": {},
     "output_type": "execute_result"
    }
   ],
   "source": [
    "tweet_merge_cln.rating_denominator.value_counts()"
   ]
  },
  {
   "cell_type": "code",
   "execution_count": 33,
   "metadata": {},
   "outputs": [],
   "source": [
    "# Out of 2059 records, more than 90% of rows (2041) are with a valid rating_denominator, so it's safe to delete the invalid rows\n",
    "tweet_merge_cln = tweet_merge_cln[tweet_merge_cln['rating_denominator']==10]"
   ]
  },
  {
   "cell_type": "markdown",
   "metadata": {},
   "source": [
    "#### _Test_:"
   ]
  },
  {
   "cell_type": "code",
   "execution_count": 34,
   "metadata": {},
   "outputs": [
    {
     "name": "stdout",
     "output_type": "stream",
     "text": [
      "Datatype of column rating_denominator is: \n",
      " float64\n",
      "Values in this column are: \n",
      " 10.0    2041\n",
      "Name: rating_denominator, dtype: int64\n"
     ]
    }
   ],
   "source": [
    "print('Datatype of column rating_denominator is: \\n',tweet_merge_cln.rating_denominator.dtype)\n",
    "print('Values in this column are: \\n',tweet_merge_cln.rating_denominator.value_counts())"
   ]
  },
  {
   "cell_type": "markdown",
   "metadata": {},
   "source": [
    "#### _Define_:\n",
    "Column rating_numerator should be converted to float datatype, and it has extreme values.\n",
    "\n",
    "According to the project description, the rating numerator can be greater than 10, though I noticed some extreme values like 1776, I will take a closer look to decide if these extreme values need to be removed."
   ]
  },
  {
   "cell_type": "markdown",
   "metadata": {},
   "source": [
    "#### _Code_:"
   ]
  },
  {
   "cell_type": "code",
   "execution_count": 35,
   "metadata": {
    "scrolled": false
   },
   "outputs": [],
   "source": [
    "tweet_merge_cln['rating_numerator'] = tweet_merge_cln['rating_numerator'].astype(float)"
   ]
  },
  {
   "cell_type": "code",
   "execution_count": 36,
   "metadata": {},
   "outputs": [
    {
     "data": {
      "text/plain": [
       "12.0      471\n",
       "10.0      427\n",
       "11.0      413\n",
       "13.0      275\n",
       "9.0       150\n",
       "8.0        95\n",
       "7.0        51\n",
       "14.0       38\n",
       "5.0        34\n",
       "6.0        32\n",
       "3.0        19\n",
       "4.0        15\n",
       "2.0         9\n",
       "1.0         4\n",
       "0.0         2\n",
       "27.0        1\n",
       "15.0        1\n",
       "1776.0      1\n",
       "26.0        1\n",
       "75.0        1\n",
       "420.0       1\n",
       "Name: rating_numerator, dtype: int64"
      ]
     },
     "execution_count": 36,
     "metadata": {},
     "output_type": "execute_result"
    }
   ],
   "source": [
    "tweet_merge_cln.rating_numerator.value_counts()"
   ]
  },
  {
   "cell_type": "code",
   "execution_count": 37,
   "metadata": {
    "scrolled": true
   },
   "outputs": [
    {
     "data": {
      "text/html": [
       "<div>\n",
       "<style scoped>\n",
       "    .dataframe tbody tr th:only-of-type {\n",
       "        vertical-align: middle;\n",
       "    }\n",
       "\n",
       "    .dataframe tbody tr th {\n",
       "        vertical-align: top;\n",
       "    }\n",
       "\n",
       "    .dataframe thead th {\n",
       "        text-align: right;\n",
       "    }\n",
       "</style>\n",
       "<table border=\"1\" class=\"dataframe\">\n",
       "  <thead>\n",
       "    <tr style=\"text-align: right;\">\n",
       "      <th></th>\n",
       "      <th>tweet_id</th>\n",
       "      <th>text</th>\n",
       "    </tr>\n",
       "  </thead>\n",
       "  <tbody>\n",
       "    <tr>\n",
       "      <th>548</th>\n",
       "      <td>786709082849828864</td>\n",
       "      <td>This is Logan, the Chow who lived. He solemnly swears he's up to lots of good. H*ckin magical af 9.75/10 https://t.co/yBO5wuqaPS</td>\n",
       "    </tr>\n",
       "    <tr>\n",
       "      <th>603</th>\n",
       "      <td>778027034220126208</td>\n",
       "      <td>This is Sophie. She's a Jubilant Bush Pupper. Super h*ckin rare. Appears at random just to smile at the locals. 11.27/10 would smile back https://t.co/QFaUiIHxHq</td>\n",
       "    </tr>\n",
       "    <tr>\n",
       "      <th>789</th>\n",
       "      <td>749981277374128128</td>\n",
       "      <td>This is Atticus. He's quite simply America af. 1776/10 https://t.co/GRXwMxLBkh</td>\n",
       "    </tr>\n",
       "    <tr>\n",
       "      <th>1438</th>\n",
       "      <td>680494726643068929</td>\n",
       "      <td>Here we have uncovered an entire battalion of holiday puppers. Average of 11.26/10 https://t.co/eNm2S6p9BD</td>\n",
       "    </tr>\n",
       "    <tr>\n",
       "      <th>1781</th>\n",
       "      <td>670842764863651840</td>\n",
       "      <td>After so many requests... here you go.\\n\\nGood dogg. 420/10 https://t.co/yfAAo1gdeY</td>\n",
       "    </tr>\n",
       "  </tbody>\n",
       "</table>\n",
       "</div>"
      ],
      "text/plain": [
       "                tweet_id  \\\n",
       "548   786709082849828864   \n",
       "603   778027034220126208   \n",
       "789   749981277374128128   \n",
       "1438  680494726643068929   \n",
       "1781  670842764863651840   \n",
       "\n",
       "                                                                                                                                                                   text  \n",
       "548                                    This is Logan, the Chow who lived. He solemnly swears he's up to lots of good. H*ckin magical af 9.75/10 https://t.co/yBO5wuqaPS  \n",
       "603   This is Sophie. She's a Jubilant Bush Pupper. Super h*ckin rare. Appears at random just to smile at the locals. 11.27/10 would smile back https://t.co/QFaUiIHxHq  \n",
       "789                                                                                      This is Atticus. He's quite simply America af. 1776/10 https://t.co/GRXwMxLBkh  \n",
       "1438                                                         Here we have uncovered an entire battalion of holiday puppers. Average of 11.26/10 https://t.co/eNm2S6p9BD  \n",
       "1781                                                                                After so many requests... here you go.\\n\\nGood dogg. 420/10 https://t.co/yfAAo1gdeY  "
      ]
     },
     "metadata": {},
     "output_type": "display_data"
    }
   ],
   "source": [
    "# print the twitter text for tweets with rating numerator higher than 20\n",
    "with pd.option_context('max_colwidth', 200):\n",
    "    display(tweet_merge_cln[tweet_merge_cln['rating_numerator'] > 20][['tweet_id','text']])"
   ]
  },
  {
   "cell_type": "code",
   "execution_count": 38,
   "metadata": {},
   "outputs": [],
   "source": [
    "# Based on the text of row 548, the rating numerator should be 9.75, not 75.0. To make things simple, I will round these decimal ratings to the nearest integer\n",
    "tweet_merge_cln.loc[(tweet_merge_cln.index==548),'rating_numerator'] = 10.0\n",
    "# Based on the text of row 603, the rating numerator should be 11.27, not 27.0\n",
    "tweet_merge_cln.loc[(tweet_merge_cln.index==603),'rating_numerator'] = 11.0\n",
    "# Based on the text of row 1438, the rating numerator should be 11.26, not 26.0\n",
    "tweet_merge_cln.loc[(tweet_merge_cln.index==1438),'rating_numerator'] = 11.0"
   ]
  },
  {
   "cell_type": "code",
   "execution_count": 39,
   "metadata": {},
   "outputs": [],
   "source": [
    "# For row 789 and 1781, the former has something to do with July 4th and the latter is a person instead of a real dog, I will treat them as outliers and remove them from the dataset\n",
    "tweet_merge_cln = tweet_merge_cln.drop([789,1781])\n",
    "#tweet_merge_cln = tweet_merge_cln.drop('text',axis=1)"
   ]
  },
  {
   "cell_type": "markdown",
   "metadata": {},
   "source": [
    "#### _Test_:"
   ]
  },
  {
   "cell_type": "code",
   "execution_count": 40,
   "metadata": {},
   "outputs": [
    {
     "name": "stdout",
     "output_type": "stream",
     "text": [
      "Datatype of column rating_numerator is: \n",
      " float64\n",
      "Values in this column are: \n",
      " 0.0       2\n",
      "1.0       4\n",
      "2.0       9\n",
      "3.0      19\n",
      "4.0      15\n",
      "5.0      34\n",
      "6.0      32\n",
      "7.0      51\n",
      "8.0      95\n",
      "9.0     150\n",
      "10.0    428\n",
      "11.0    415\n",
      "12.0    471\n",
      "13.0    275\n",
      "14.0     38\n",
      "15.0      1\n",
      "Name: rating_numerator, dtype: int64\n"
     ]
    }
   ],
   "source": [
    "print('Datatype of column rating_numerator is: \\n',tweet_merge_cln.rating_numerator.dtype)\n",
    "print('Values in this column are: \\n',tweet_merge_cln.rating_numerator.value_counts().sort_index())"
   ]
  },
  {
   "cell_type": "markdown",
   "metadata": {},
   "source": [
    "#### _Define_:\n",
    "Melt columns doggo, floofer, pupper and puppo, and create a single column 'stage' to consolidate the information"
   ]
  },
  {
   "cell_type": "markdown",
   "metadata": {},
   "source": [
    "#### _Code_:"
   ]
  },
  {
   "cell_type": "code",
   "execution_count": 41,
   "metadata": {},
   "outputs": [],
   "source": [
    "all_cols = tweet_merge_cln.columns.tolist()\n",
    "value_var = ['doggo','floofer','pupper','puppo']\n",
    "id_var = [x for x in all_cols if x not in value_var]\n",
    "\n",
    "tweet_merge_cln = pd.melt(tweet_merge_cln,id_vars=id_var,value_vars=value_var,value_name='dog_stage')"
   ]
  },
  {
   "cell_type": "code",
   "execution_count": 42,
   "metadata": {},
   "outputs": [],
   "source": [
    "tweet_merge_cln = tweet_merge_cln.drop('variable',axis=1)"
   ]
  },
  {
   "cell_type": "markdown",
   "metadata": {},
   "source": [
    "#### _Test_:"
   ]
  },
  {
   "cell_type": "code",
   "execution_count": 43,
   "metadata": {},
   "outputs": [
    {
     "data": {
      "text/plain": [
       "None       7825\n",
       "pupper      221\n",
       "doggo        78\n",
       "puppo        24\n",
       "floofer       8\n",
       "Name: dog_stage, dtype: int64"
      ]
     },
     "execution_count": 43,
     "metadata": {},
     "output_type": "execute_result"
    }
   ],
   "source": [
    "tweet_merge_cln.dog_stage.value_counts()"
   ]
  },
  {
   "cell_type": "code",
   "execution_count": 44,
   "metadata": {},
   "outputs": [
    {
     "name": "stdout",
     "output_type": "stream",
     "text": [
      "<class 'pandas.core.frame.DataFrame'>\n",
      "RangeIndex: 8156 entries, 0 to 8155\n",
      "Data columns (total 20 columns):\n",
      "tweet_id               8156 non-null object\n",
      "timestamp              8156 non-null datetime64[ns]\n",
      "text                   8156 non-null object\n",
      "retweeted_status_id    288 non-null float64\n",
      "rating_numerator       8156 non-null float64\n",
      "rating_denominator     8156 non-null float64\n",
      "name                   8156 non-null object\n",
      "jpg_url                8156 non-null object\n",
      "p1                     8156 non-null object\n",
      "p1_conf                8156 non-null float64\n",
      "p1_dog                 8156 non-null bool\n",
      "p2                     8156 non-null object\n",
      "p2_conf                8156 non-null float64\n",
      "p2_dog                 8156 non-null bool\n",
      "p3                     8156 non-null object\n",
      "p3_conf                8156 non-null float64\n",
      "p3_dog                 8156 non-null bool\n",
      "favorite_count         8156 non-null int64\n",
      "retweet_count          8156 non-null int64\n",
      "dog_stage              8156 non-null object\n",
      "dtypes: bool(3), datetime64[ns](1), float64(6), int64(2), object(8)\n",
      "memory usage: 1.1+ MB\n"
     ]
    }
   ],
   "source": [
    "tweet_merge_cln.info()"
   ]
  },
  {
   "cell_type": "markdown",
   "metadata": {},
   "source": [
    "#### _Define_:\n",
    "Remove duplicated rows, including rows with duplicated jpg_url values"
   ]
  },
  {
   "cell_type": "markdown",
   "metadata": {},
   "source": [
    "#### _Code_:"
   ]
  },
  {
   "cell_type": "code",
   "execution_count": 45,
   "metadata": {},
   "outputs": [],
   "source": [
    "tweet_merge_cln = tweet_merge_cln[tweet_merge_cln.retweeted_status_id.isnull()]"
   ]
  },
  {
   "cell_type": "code",
   "execution_count": 46,
   "metadata": {},
   "outputs": [],
   "source": [
    "tweet_merge_cln = tweet_merge_cln.drop_duplicates()"
   ]
  },
  {
   "cell_type": "code",
   "execution_count": 47,
   "metadata": {},
   "outputs": [],
   "source": [
    "tweet_merge_cln.dog_stage.replace('None',np.NaN,inplace=True)\n",
    "tweet_merge_cln.sort_values(by='dog_stage',inplace=True)\n",
    "\n",
    "tweet_merge_cln = tweet_merge_cln.drop_duplicates(subset=['jpg_url'])"
   ]
  },
  {
   "cell_type": "markdown",
   "metadata": {},
   "source": [
    "#### _Test_:"
   ]
  },
  {
   "cell_type": "code",
   "execution_count": 48,
   "metadata": {},
   "outputs": [
    {
     "data": {
      "text/plain": [
       "(0, 0, 0)"
      ]
     },
     "execution_count": 48,
     "metadata": {},
     "output_type": "execute_result"
    }
   ],
   "source": [
    "tweet_merge_cln.jpg_url.duplicated().sum(),tweet_merge_cln.tweet_id.duplicated().sum(),tweet_merge_cln.retweeted_status_id.notnull().sum()"
   ]
  },
  {
   "cell_type": "code",
   "execution_count": 49,
   "metadata": {},
   "outputs": [
    {
     "data": {
      "text/plain": [
       "pupper     203\n",
       "doggo       73\n",
       "puppo       22\n",
       "floofer      7\n",
       "Name: dog_stage, dtype: int64"
      ]
     },
     "execution_count": 49,
     "metadata": {},
     "output_type": "execute_result"
    }
   ],
   "source": [
    "tweet_merge_cln.dog_stage.value_counts()"
   ]
  },
  {
   "cell_type": "code",
   "execution_count": 50,
   "metadata": {},
   "outputs": [],
   "source": [
    "tweet_merge_cln = tweet_merge_cln.drop(['retweeted_status_id','jpg_url'],axis=1)"
   ]
  },
  {
   "cell_type": "code",
   "execution_count": 51,
   "metadata": {},
   "outputs": [
    {
     "name": "stdout",
     "output_type": "stream",
     "text": [
      "<class 'pandas.core.frame.DataFrame'>\n",
      "Int64Index: 1967 entries, 9 to 2038\n",
      "Data columns (total 18 columns):\n",
      "tweet_id              1967 non-null object\n",
      "timestamp             1967 non-null datetime64[ns]\n",
      "text                  1967 non-null object\n",
      "rating_numerator      1967 non-null float64\n",
      "rating_denominator    1967 non-null float64\n",
      "name                  1967 non-null object\n",
      "p1                    1967 non-null object\n",
      "p1_conf               1967 non-null float64\n",
      "p1_dog                1967 non-null bool\n",
      "p2                    1967 non-null object\n",
      "p2_conf               1967 non-null float64\n",
      "p2_dog                1967 non-null bool\n",
      "p3                    1967 non-null object\n",
      "p3_conf               1967 non-null float64\n",
      "p3_dog                1967 non-null bool\n",
      "favorite_count        1967 non-null int64\n",
      "retweet_count         1967 non-null int64\n",
      "dog_stage             305 non-null object\n",
      "dtypes: bool(3), datetime64[ns](1), float64(5), int64(2), object(7)\n",
      "memory usage: 251.6+ KB\n"
     ]
    }
   ],
   "source": [
    "tweet_merge_cln.info()"
   ]
  },
  {
   "cell_type": "markdown",
   "metadata": {},
   "source": [
    "#### _Define_:\n",
    "Consolidate image prediction columns and create a new column *dog_breed*"
   ]
  },
  {
   "cell_type": "markdown",
   "metadata": {},
   "source": [
    "#### _Code_:"
   ]
  },
  {
   "cell_type": "code",
   "execution_count": 52,
   "metadata": {},
   "outputs": [],
   "source": [
    "def get_dog_breed(df):\n",
    "    if df['p1_dog'] == True:\n",
    "        dog_breed = df['p1']\n",
    "    elif df['p2_dog'] == True:\n",
    "        dog_breed = df['p2']\n",
    "    elif df['p3_dog'] == True:\n",
    "        dog_breed = df['p3']\n",
    "    else:\n",
    "        dog_breed = 'NoBreed'\n",
    "    return dog_breed\n",
    "\n",
    "tweet_merge_cln['dog_breed'] = tweet_merge_cln.apply(get_dog_breed,axis=1)"
   ]
  },
  {
   "cell_type": "code",
   "execution_count": 53,
   "metadata": {},
   "outputs": [],
   "source": [
    "tweet_merge_cln = tweet_merge_cln.drop(['p1','p1_conf','p1_dog','p2','p2_conf','p2_dog','p3','p3_conf','p3_dog'],axis=1)"
   ]
  },
  {
   "cell_type": "markdown",
   "metadata": {},
   "source": [
    "#### _Test_:"
   ]
  },
  {
   "cell_type": "code",
   "execution_count": 54,
   "metadata": {},
   "outputs": [
    {
     "data": {
      "text/html": [
       "<div>\n",
       "<style scoped>\n",
       "    .dataframe tbody tr th:only-of-type {\n",
       "        vertical-align: middle;\n",
       "    }\n",
       "\n",
       "    .dataframe tbody tr th {\n",
       "        vertical-align: top;\n",
       "    }\n",
       "\n",
       "    .dataframe thead th {\n",
       "        text-align: right;\n",
       "    }\n",
       "</style>\n",
       "<table border=\"1\" class=\"dataframe\">\n",
       "  <thead>\n",
       "    <tr style=\"text-align: right;\">\n",
       "      <th></th>\n",
       "      <th>tweet_id</th>\n",
       "      <th>timestamp</th>\n",
       "      <th>text</th>\n",
       "      <th>rating_numerator</th>\n",
       "      <th>rating_denominator</th>\n",
       "      <th>name</th>\n",
       "      <th>favorite_count</th>\n",
       "      <th>retweet_count</th>\n",
       "      <th>dog_stage</th>\n",
       "      <th>dog_breed</th>\n",
       "    </tr>\n",
       "  </thead>\n",
       "  <tbody>\n",
       "    <tr>\n",
       "      <th>9</th>\n",
       "      <td>890240255349198849</td>\n",
       "      <td>2017-07-26 15:59:51</td>\n",
       "      <td>This is Cassie. She is a college pup. Studying...</td>\n",
       "      <td>14.0</td>\n",
       "      <td>10.0</td>\n",
       "      <td>Cassie</td>\n",
       "      <td>29254</td>\n",
       "      <td>6481</td>\n",
       "      <td>doggo</td>\n",
       "      <td>Pembroke</td>\n",
       "    </tr>\n",
       "    <tr>\n",
       "      <th>730</th>\n",
       "      <td>757393109802180609</td>\n",
       "      <td>2016-07-25 01:52:43</td>\n",
       "      <td>Here's a doggo completely oblivious to the dou...</td>\n",
       "      <td>10.0</td>\n",
       "      <td>10.0</td>\n",
       "      <td>None</td>\n",
       "      <td>5705</td>\n",
       "      <td>1695</td>\n",
       "      <td>doggo</td>\n",
       "      <td>Labrador_retriever</td>\n",
       "    </tr>\n",
       "    <tr>\n",
       "      <th>717</th>\n",
       "      <td>758828659922702336</td>\n",
       "      <td>2016-07-29 00:57:05</td>\n",
       "      <td>This doggo is just waiting for someone to be p...</td>\n",
       "      <td>13.0</td>\n",
       "      <td>10.0</td>\n",
       "      <td>None</td>\n",
       "      <td>11020</td>\n",
       "      <td>3767</td>\n",
       "      <td>doggo</td>\n",
       "      <td>Chesapeake_Bay_retriever</td>\n",
       "    </tr>\n",
       "    <tr>\n",
       "      <th>709</th>\n",
       "      <td>759793422261743616</td>\n",
       "      <td>2016-07-31 16:50:42</td>\n",
       "      <td>Meet Maggie &amp;amp; Lila. Maggie is the doggo, L...</td>\n",
       "      <td>12.0</td>\n",
       "      <td>10.0</td>\n",
       "      <td>Maggie</td>\n",
       "      <td>5853</td>\n",
       "      <td>1868</td>\n",
       "      <td>doggo</td>\n",
       "      <td>golden_retriever</td>\n",
       "    </tr>\n",
       "    <tr>\n",
       "      <th>700</th>\n",
       "      <td>760893934457552897</td>\n",
       "      <td>2016-08-03 17:43:45</td>\n",
       "      <td>This is Wishes. He has the day off. Daily stru...</td>\n",
       "      <td>11.0</td>\n",
       "      <td>10.0</td>\n",
       "      <td>Wishes</td>\n",
       "      <td>3751</td>\n",
       "      <td>950</td>\n",
       "      <td>doggo</td>\n",
       "      <td>Blenheim_spaniel</td>\n",
       "    </tr>\n",
       "  </tbody>\n",
       "</table>\n",
       "</div>"
      ],
      "text/plain": [
       "               tweet_id           timestamp  \\\n",
       "9    890240255349198849 2017-07-26 15:59:51   \n",
       "730  757393109802180609 2016-07-25 01:52:43   \n",
       "717  758828659922702336 2016-07-29 00:57:05   \n",
       "709  759793422261743616 2016-07-31 16:50:42   \n",
       "700  760893934457552897 2016-08-03 17:43:45   \n",
       "\n",
       "                                                  text  rating_numerator  \\\n",
       "9    This is Cassie. She is a college pup. Studying...              14.0   \n",
       "730  Here's a doggo completely oblivious to the dou...              10.0   \n",
       "717  This doggo is just waiting for someone to be p...              13.0   \n",
       "709  Meet Maggie &amp; Lila. Maggie is the doggo, L...              12.0   \n",
       "700  This is Wishes. He has the day off. Daily stru...              11.0   \n",
       "\n",
       "     rating_denominator    name  favorite_count  retweet_count dog_stage  \\\n",
       "9                  10.0  Cassie           29254           6481     doggo   \n",
       "730                10.0    None            5705           1695     doggo   \n",
       "717                10.0    None           11020           3767     doggo   \n",
       "709                10.0  Maggie            5853           1868     doggo   \n",
       "700                10.0  Wishes            3751            950     doggo   \n",
       "\n",
       "                    dog_breed  \n",
       "9                    Pembroke  \n",
       "730        Labrador_retriever  \n",
       "717  Chesapeake_Bay_retriever  \n",
       "709          golden_retriever  \n",
       "700          Blenheim_spaniel  "
      ]
     },
     "execution_count": 54,
     "metadata": {},
     "output_type": "execute_result"
    }
   ],
   "source": [
    "tweet_merge_cln.head()"
   ]
  },
  {
   "cell_type": "markdown",
   "metadata": {},
   "source": [
    "#### _Define_:\n",
    "Fix invalid values in column *name*"
   ]
  },
  {
   "cell_type": "markdown",
   "metadata": {},
   "source": [
    "#### _Code_:"
   ]
  },
  {
   "cell_type": "code",
   "execution_count": 55,
   "metadata": {},
   "outputs": [
    {
     "data": {
      "text/plain": [
       "array(['Abby', 'Ace', 'Acro', 'Adele', 'Aiden', 'Aja', 'Akumi', 'Al',\n",
       "       'Albert', 'Albus', 'Aldrick', 'Alejandro', 'Alexander',\n",
       "       'Alexanderson', 'Alf', 'Alfie', 'Alfy', 'Alice', 'Amber', 'Ambrose',\n",
       "       'Amy', 'Amélie', 'Anakin', 'Andru', 'Andy', 'Angel', 'Anna',\n",
       "       'Anthony', 'Antony', 'Apollo', 'Aqua', 'Archie', 'Arlen', 'Arlo',\n",
       "       'Arnie', 'Arnold', 'Arya', 'Ash', 'Asher', 'Ashleigh', 'Aspen',\n",
       "       'Atlas', 'Atticus', 'Aubie', 'Augie', 'Autumn', 'Ava', 'Axel',\n",
       "       'Bailey', 'Baloo', 'Banditt', 'Banjo', 'Barclay', 'Barney', 'Baron',\n",
       "       'Batdog', 'Bauer', 'Baxter', 'Bayley', 'BeBe', 'Bear', 'Beau',\n",
       "       'Beckham', 'Beebop', 'Beemo', 'Bell', 'Bella', 'Belle', 'Ben',\n",
       "       'Benedict', 'Benji', 'Benny', 'Bentley', 'Berb', 'Berkeley',\n",
       "       'Bernie', 'Bert', 'Bertson', 'Betty', 'Beya', 'Biden', 'Bilbo',\n",
       "       'Billl', 'Billy', 'Binky', 'Birf', 'Bisquick', 'Blakely', 'Blanket',\n",
       "       'Blipson', 'Blitz', 'Bloo', 'Bloop', 'Blu', 'Blue', 'Bo', 'Bob',\n",
       "       'Bobb', 'Bobbay', 'Bobble', 'Bobby', 'Bode', 'Bodie', 'Bonaparte',\n",
       "       'Bones', 'Bookstore', 'Boomer', 'Boots', 'Boston', 'Bowie', 'Brad',\n",
       "       'Bradlay', 'Bradley', 'Brady', 'Brandi', 'Brandonald', 'Brandy',\n",
       "       'Brat', 'Brian', 'Brockly', 'Brody', 'Bronte', 'Brooks', 'Brownie',\n",
       "       'Bruce', 'Brudge', 'Bruiser', 'Bruno', 'Brutus', 'Bubba', 'Bubbles',\n",
       "       'Buckley', 'Buddah', 'Buddy', 'Bungalo', 'Burt', 'Butter',\n",
       "       'Butters', 'Cal', 'Calbert', 'Cali', 'Callie', 'Calvin', 'Canela',\n",
       "       'Cannon', 'Carbon', 'Carl', 'Carll', 'Carly', 'Carper', 'Carter',\n",
       "       'Caryl', 'Cash', 'Cassie', 'CeCe', 'Cecil', 'Cedrick', 'Cermet',\n",
       "       'Chadrick', 'Champ', 'Charl', 'Charles', 'Charleson', 'Charlie',\n",
       "       'Chase', 'Chaz', 'Cheesy', 'Chef', 'Chelsea', 'Cheryl', 'Chesney',\n",
       "       'Chester', 'Chesterson', 'Chet', 'Chevy', 'Chip', 'Chipson',\n",
       "       'Chloe', 'Chompsky', 'Christoper', 'Chubbs', 'Chuck', 'Chuckles',\n",
       "       'Chuq', 'Churlie', 'Cilantro', 'Clarence', 'Clark', 'Clarkus',\n",
       "       'Clarq', 'Claude', 'Cleopatricia', 'Clifford', 'Clybe', 'Clyde',\n",
       "       'Coco', 'Cody', 'Colby', 'Coleman', 'Colin', 'Comet', 'Cooper',\n",
       "       'Coops', 'Coopson', 'Cora', 'Corey', 'Covach', 'Craig', 'Crawford',\n",
       "       'Creg', 'Crimson', 'Crouton', 'Crumpet', 'Crystal', 'Cuddles',\n",
       "       'Cupcake', 'Cupid', 'Curtis', 'Daisy', 'Dakota', 'Dale', 'Dallas',\n",
       "       'Damon', 'Daniel', 'Danny', 'Dante', 'Darby', 'Darla', 'Dash',\n",
       "       'Dave', 'Davey', 'Dawn', 'DayZ', 'Deacon', 'Derby', 'Derek',\n",
       "       'Devón', 'Dewey', 'Dex', 'Dexter', 'Dido', 'Dietrich', 'Diogi',\n",
       "       'Divine', 'Dixie', 'Django', 'Dobby', 'Doc', 'DonDon', 'Donny',\n",
       "       'Doobert', 'Dook', 'Dot', 'Dotsy', 'Doug', 'Duchess', 'Duddles',\n",
       "       'Dudley', 'Dug', 'Duke', 'Dunkin', 'Durg', 'Dutch', 'Dwight',\n",
       "       'Dylan', 'Earl', 'Eazy', 'Ebby', 'Ed', 'Edd', 'Edgar', 'Edmund',\n",
       "       'Eevee', 'Einstein', 'Eleanor', 'Eli', 'Ellie', 'Elliot', 'Emanuel',\n",
       "       'Emma', 'Emmie', 'Emmy', 'Enchilada', 'Erik', 'Eriq', 'Ester',\n",
       "       'Eugene', 'Eve', 'Evy', 'Fabio', 'Farfle', 'Fido', 'Fiji', 'Fillup',\n",
       "       'Filup', 'Finley', 'Finn', 'Finnegus', 'Fiona', 'Fizz', 'Flash',\n",
       "       'Fletcher', 'Florence', 'Flurpson', 'Flávio', 'Frank', 'Frankie',\n",
       "       'Franklin', 'Franq', 'Fred', 'Freddery', 'Frönq', 'Furzey', 'Fwed',\n",
       "       'Fynn', 'Gabe', 'Gary', 'General', 'Genevieve', 'Geno', 'Geoff',\n",
       "       'George', 'Georgie', 'Gerald', 'Gerbald', 'Gert', 'Gidget',\n",
       "       'Gilbert', 'Gin', 'Ginger', 'Gizmo', 'Glacier', 'Glenn', 'Godi',\n",
       "       'Godzilla', 'Goliath', 'Goose', 'Gordon', 'Grady', 'Grey',\n",
       "       'Griffin', 'Griswold', 'Grizz', 'Grizzie', 'Grizzwald', 'Gromit',\n",
       "       'Gunner', 'Gus', 'Gustaf', 'Gustav', 'Gòrdón', 'Hall', 'Halo',\n",
       "       'Hammond', 'Hamrick', 'Hank', 'Hanz', 'Happy', 'Harlso', 'Harnold',\n",
       "       'Harold', 'Harper', 'Harrison', 'Harvey', 'Hazel', 'Hector',\n",
       "       'Heinrich', 'Henry', 'Herald', 'Herb', 'Hercules', 'Herm',\n",
       "       'Hermione', 'Hero', 'Herschel', 'Hobbes', 'Holly', 'Horace',\n",
       "       'Howie', 'Hubertson', 'Huck', 'Humphrey', 'Hunter', 'Hurley',\n",
       "       'Huxley', 'Iggy', 'Ike', 'Indie', 'Iroh', 'Ito', 'Ivar', 'JD',\n",
       "       'Jack', 'Jackie', 'Jackson', 'Jameson', 'Jamesy', 'Jangle',\n",
       "       'Jareld', 'Jarod', 'Jarvis', 'Jaspers', 'Jax', 'Jay', 'Jaycob',\n",
       "       'Jazz', 'Jazzy', 'Jeb', 'Jebberson', 'Jed', 'Jeffrey', 'Jeffri',\n",
       "       'Jeffrie', 'Jennifur', 'Jeph', 'Jeremy', 'Jerome', 'Jerry',\n",
       "       'Jersey', 'Jesse', 'Jessifer', 'Jessiga', 'Jett', 'Jim', 'Jimbo',\n",
       "       'Jiminus', 'Jiminy', 'Jimison', 'Jimothy', 'Jo', 'Jockson', 'Joey',\n",
       "       'Jomathan', 'Jonah', 'Jordy', 'Josep', 'Joshwa', 'Juckson', 'Julio',\n",
       "       'Julius', 'Juno', 'Kaia', 'Kaiya', 'Kallie', 'Kane', 'Kanu', 'Kara',\n",
       "       'Karl', 'Karll', 'Karma', 'Kathmandu', 'Katie', 'Kawhi', 'Kayla',\n",
       "       'Keet', 'Keith', 'Kellogg', 'Ken', 'Kendall', 'Kenneth', 'Kenny',\n",
       "       'Kenzie', 'Keurig', 'Kevin', 'Kevon', 'Kial', 'Kilo', 'Kingsley',\n",
       "       'Kirby', 'Kirk', 'Klein', 'Klevin', 'Kloey', 'Kobe', 'Koda', 'Kody',\n",
       "       'Koko', 'Kollin', 'Kona', 'Kota', 'Kramer', 'Kreg', 'Kreggory',\n",
       "       'Kulet', 'Kuyu', 'Kyle', 'Kyro', 'Lacy', 'Laela', 'Laika',\n",
       "       'Lambeau', 'Lance', 'Larry', 'Lassie', 'Layla', 'Leela', 'Lennon',\n",
       "       'Lenny', 'Lenox', 'Leo', 'Leonard', 'Leonidas', 'Levi', 'Liam',\n",
       "       'Lilah', 'Lili', 'Lilli', 'Lillie', 'Lilly', 'Lily', 'Lincoln',\n",
       "       'Linda', 'Link', 'Lipton', 'Livvie', 'Lizzie', 'Logan', 'Loki',\n",
       "       'Lola', 'Lolo', 'Longfellow', 'Loomis', 'Lorelei', 'Lorenzo', 'Lou',\n",
       "       'Louie', 'Louis', 'Luca', 'Lucia', 'Lucky', 'Lucy', 'Lugan', 'Lulu',\n",
       "       'Luna', 'Lupe', 'Luther', 'Mabel', 'Mac', 'Mack', 'Maddie',\n",
       "       'Maggie', 'Mairi', 'Maisey', 'Major', 'Maks', 'Malcolm', 'Malikai',\n",
       "       'Margo', 'Mark', 'Marlee', 'Marley', 'Marq', 'Marty', 'Marvin',\n",
       "       'Mary', 'Mason', 'Mattie', 'Maude', 'Mauve', 'Max', 'Maxaroni',\n",
       "       'Maximus', 'Maxwell', 'Maya', 'Meatball', 'Meera', 'Meyer', 'Mia',\n",
       "       'Michelangelope', 'Miguel', 'Mike', 'Miley', 'Milky', 'Millie',\n",
       "       'Milo', 'Mimosa', 'Mingus', 'Mister', 'Misty', 'Mitch', 'Mo', 'Moe',\n",
       "       'Mojo', 'Mollie', 'Molly', 'Mona', 'Monkey', 'Monster', 'Monty',\n",
       "       'Moofasa', 'Mookie', 'Moose', 'Moreton', 'Mosby', 'Murphy', 'Mutt',\n",
       "       'Mya', 'Nala', 'Naphaniel', 'Napolean', 'Nelly', 'Neptune', 'Newt',\n",
       "       'Nico', 'Nida', 'Nigel', 'Nimbus', 'Noah', 'Nollie', 'None',\n",
       "       'Noosh', 'Norman', 'Nugget', 'O', 'Oakley', 'Obi', 'Obie', 'Odie',\n",
       "       'Odin', 'Olaf', 'Ole', 'Olive', 'Oliver', 'Olivia', 'Oliviér',\n",
       "       'Ollie', 'Opal', 'Opie', 'Oreo', 'Orion', 'Oscar', 'Oshie', 'Otis',\n",
       "       'Ozzie', 'Ozzy', 'Pablo', 'Paisley', 'Pancake', 'Panda', 'Patch',\n",
       "       'Patrick', 'Paull', 'Pavlov', 'Pawnd', 'Peaches', 'Peanut',\n",
       "       'Penelope', 'Penny', 'Pepper', 'Percy', 'Perry', 'Pete', 'Petrick',\n",
       "       'Phil', 'Philbert', 'Philippe', 'Phineas', 'Phred', 'Pickles',\n",
       "       'Pilot', 'Pinot', 'Pip', 'Piper', 'Pippa', 'Pippin', 'Pipsy',\n",
       "       'Pluto', 'Poppy', 'Pubert', 'Puff', 'Pumpkin', 'Pupcasso', 'Quinn',\n",
       "       'Ralf', 'Ralph', 'Ralpher', 'Ralphie', 'Ralphson', 'Ralphus',\n",
       "       'Ralphé', 'Rambo', 'Randall', 'Raphael', 'Raymond', 'Reagan',\n",
       "       'Reese', 'Reggie', 'Reginald', 'Remington', 'Remus', 'Remy',\n",
       "       'Reptar', 'Rey', 'Rhino', 'Richie', 'Ricky', 'Ridley', 'Riley',\n",
       "       'Rilo', 'Rinna', 'River', 'Rizzo', 'Rizzy', 'Robin', 'Rocco',\n",
       "       'Rocky', 'Rodman', 'Rodney', 'Rolf', 'Romeo', 'Ron', 'Ronduh',\n",
       "       'Ronnie', 'Rontu', 'Rooney', 'Roosevelt', 'Rorie', 'Rory', 'Roscoe',\n",
       "       'Rose', 'Rosie', 'Rover', 'Rubio', 'Ruby', 'Rueben', 'Ruffles',\n",
       "       'Rufio', 'Rufus', 'Rumble', 'Rumpole', 'Rupert', 'Rusty', 'Sadie',\n",
       "       'Sage', 'Sailer', 'Sailor', 'Sam', 'Sammy', 'Sampson', 'Samsom',\n",
       "       'Samson', 'Sandra', 'Sandy', 'Sansa', 'Sarge', 'Saydee',\n",
       "       'Schnitzel', 'Schnozz', 'Scooter', 'Scott', 'Scout', 'Scruffers',\n",
       "       'Sebastian', 'Sephie', 'Severus', 'Shadoe', 'Shadow', 'Shaggy',\n",
       "       'Shakespeare', 'Shawwn', 'Shelby', 'Shikha', 'Shiloh', 'Shnuggles',\n",
       "       'Shooter', 'Siba', 'Sid', 'Sierra', 'Simba', 'Skittles', 'Sky',\n",
       "       'Skye', 'Smiley', 'Smokey', 'Snickers', 'Snicku', 'Snoop', 'Snoopy',\n",
       "       'Sobe', 'Socks', 'Sojourner', 'Solomon', 'Sonny', 'Sophie', 'Sora',\n",
       "       'Spanky', 'Spark', 'Sparky', 'Spencer', 'Sprinkles', 'Sprout',\n",
       "       'Staniel', 'Stanley', 'Stark', 'Stefan', 'Stella', 'Stephan',\n",
       "       'Stephanus', 'Steve', 'Steven', 'Stewie', 'Storkson', 'Stormy',\n",
       "       'Strider', 'Striker', 'Strudel', 'Stu', 'Stuart', 'Stubert',\n",
       "       'Sugar', 'Suki', 'Sully', 'Sundance', 'Sunny', 'Sunshine',\n",
       "       'Superpup', 'Swagger', 'Sweet', 'Taco', 'Tango', 'Tanner', 'Tassy',\n",
       "       'Tater', 'Tayzie', 'Taz', 'Tebow', 'Ted', 'Tedders', 'Tedrick',\n",
       "       'Terrance', 'Terrenth', 'Terry', 'Tess', 'Tessa', 'Theo',\n",
       "       'Theodore', 'Thor', 'Thumas', 'Tiger', 'Tilly', 'Timber', 'Timison',\n",
       "       'Timmy', 'Timofy', 'Tino', 'Titan', 'Tito', 'Tobi', 'Toby', 'Todo',\n",
       "       'Toffee', 'Tom', 'Tommy', 'Tonks', 'Torque', 'Tove', 'Travis',\n",
       "       'Traviss', 'Trevith', 'Trigger', 'Trip', 'Tripp', 'Trooper', 'Tuck',\n",
       "       'Tucker', 'Tuco', 'Tug', 'Tupawc', 'Tycho', 'Tyr', 'Tyrone',\n",
       "       'Tyrus', 'Ulysses', 'Venti', 'Vince', 'Vincent', 'Vinnie',\n",
       "       'Vinscent', 'Vixen', 'Wafer', 'Waffles', 'Walker', 'Wallace',\n",
       "       'Wally', 'Walter', 'Watson', 'Wesley', 'Wiggles', 'Willem',\n",
       "       'William', 'Willie', 'Willow', 'Willy', 'Wilson', 'Winifred',\n",
       "       'Winnie', 'Winston', 'Wishes', 'Wyatt', 'Yoda', 'Yogi', 'Zara',\n",
       "       'Zeek', 'Zeke', 'Zeus', 'Ziva', 'Zoe', 'Zoey', 'Zooey', 'Zuzu', 'a',\n",
       "       'actually', 'all', 'an', 'by', 'getting', 'his', 'incredibly',\n",
       "       'infuriating', 'just', 'light', 'my', 'not', 'officially', 'one',\n",
       "       'quite', 'space', 'such', 'the', 'unacceptable', 'very'], dtype=object)"
      ]
     },
     "execution_count": 55,
     "metadata": {},
     "output_type": "execute_result"
    }
   ],
   "source": [
    "tweet_merge_cln.name.sort_values().unique()"
   ]
  },
  {
   "cell_type": "code",
   "execution_count": 56,
   "metadata": {},
   "outputs": [],
   "source": [
    "weird_names = ['a','actually', 'all', 'an', 'by', 'getting', 'his', 'incredibly','infuriating', 'just', 'light', 'my', 'not', 'officially', 'one','quite', 'space', 'such', 'the', 'unacceptable', 'very']\n",
    "for nm in weird_names:\n",
    "    tweet_merge_cln.name.replace(nm,'None',inplace=True)"
   ]
  },
  {
   "cell_type": "markdown",
   "metadata": {},
   "source": [
    "#### _Test_:"
   ]
  },
  {
   "cell_type": "code",
   "execution_count": 57,
   "metadata": {},
   "outputs": [
    {
     "data": {
      "text/plain": [
       "Abby            2\n",
       "Ace             1\n",
       "Acro            1\n",
       "Adele           1\n",
       "Aiden           1\n",
       "Aja             1\n",
       "Akumi           1\n",
       "Al              1\n",
       "Albert          2\n",
       "Albus           2\n",
       "Aldrick         1\n",
       "Alejandro       1\n",
       "Alexander       1\n",
       "Alexanderson    1\n",
       "Alf             1\n",
       "Alfie           4\n",
       "Alfy            1\n",
       "Alice           2\n",
       "Amber           1\n",
       "Ambrose         1\n",
       "Amy             1\n",
       "Amélie          1\n",
       "Anakin          1\n",
       "Andru           1\n",
       "Andy            1\n",
       "Angel           1\n",
       "Anna            1\n",
       "Anthony         1\n",
       "Antony          1\n",
       "Apollo          1\n",
       "               ..\n",
       "Waffles         3\n",
       "Walker          1\n",
       "Wallace         3\n",
       "Wally           2\n",
       "Walter          3\n",
       "Watson          2\n",
       "Wesley          1\n",
       "Wiggles         1\n",
       "Willem          1\n",
       "William         1\n",
       "Willie          1\n",
       "Willow          1\n",
       "Willy           1\n",
       "Wilson          3\n",
       "Winifred        1\n",
       "Winnie          4\n",
       "Winston         8\n",
       "Wishes          1\n",
       "Wyatt           3\n",
       "Yoda            1\n",
       "Yogi            2\n",
       "Zara            1\n",
       "Zeek            1\n",
       "Zeke            3\n",
       "Zeus            1\n",
       "Ziva            1\n",
       "Zoe             1\n",
       "Zoey            3\n",
       "Zooey           1\n",
       "Zuzu            1\n",
       "Name: name, Length: 910, dtype: int64"
      ]
     },
     "execution_count": 57,
     "metadata": {},
     "output_type": "execute_result"
    }
   ],
   "source": [
    "tweet_merge_cln.name.value_counts().sort_index()"
   ]
  },
  {
   "cell_type": "markdown",
   "metadata": {},
   "source": [
    "#### _Define_:\n",
    "Convert tweet_id to int datatype"
   ]
  },
  {
   "cell_type": "markdown",
   "metadata": {},
   "source": [
    "#### _Code_:"
   ]
  },
  {
   "cell_type": "code",
   "execution_count": 58,
   "metadata": {},
   "outputs": [],
   "source": [
    "tweet_merge_cln.tweet_id = tweet_merge_cln.tweet_id.astype(int)"
   ]
  },
  {
   "cell_type": "markdown",
   "metadata": {},
   "source": [
    "#### _Test_:"
   ]
  },
  {
   "cell_type": "code",
   "execution_count": 59,
   "metadata": {},
   "outputs": [
    {
     "name": "stdout",
     "output_type": "stream",
     "text": [
      "<class 'pandas.core.frame.DataFrame'>\n",
      "Int64Index: 1967 entries, 9 to 2038\n",
      "Data columns (total 10 columns):\n",
      "tweet_id              1967 non-null int64\n",
      "timestamp             1967 non-null datetime64[ns]\n",
      "text                  1967 non-null object\n",
      "rating_numerator      1967 non-null float64\n",
      "rating_denominator    1967 non-null float64\n",
      "name                  1967 non-null object\n",
      "favorite_count        1967 non-null int64\n",
      "retweet_count         1967 non-null int64\n",
      "dog_stage             305 non-null object\n",
      "dog_breed             1967 non-null object\n",
      "dtypes: datetime64[ns](1), float64(2), int64(3), object(4)\n",
      "memory usage: 169.0+ KB\n"
     ]
    }
   ],
   "source": [
    "tweet_merge_cln.info()"
   ]
  },
  {
   "cell_type": "markdown",
   "metadata": {},
   "source": [
    "#### _Define_:\n",
    "Consolidate rating_numerator and rating_denominator columns and create a new column *rating*"
   ]
  },
  {
   "cell_type": "markdown",
   "metadata": {},
   "source": [
    "#### _Code_:"
   ]
  },
  {
   "cell_type": "code",
   "execution_count": 60,
   "metadata": {},
   "outputs": [],
   "source": [
    "tweet_merge_cln['rating'] = tweet_merge_cln['rating_numerator']/tweet_merge_cln['rating_denominator']\n",
    "tweet_merge_cln = tweet_merge_cln.drop(['rating_numerator','rating_denominator'],axis=1)"
   ]
  },
  {
   "cell_type": "markdown",
   "metadata": {},
   "source": [
    "#### _Test_:"
   ]
  },
  {
   "cell_type": "code",
   "execution_count": 61,
   "metadata": {},
   "outputs": [
    {
     "name": "stdout",
     "output_type": "stream",
     "text": [
      "<class 'pandas.core.frame.DataFrame'>\n",
      "Int64Index: 1967 entries, 9 to 2038\n",
      "Data columns (total 9 columns):\n",
      "tweet_id          1967 non-null int64\n",
      "timestamp         1967 non-null datetime64[ns]\n",
      "text              1967 non-null object\n",
      "name              1967 non-null object\n",
      "favorite_count    1967 non-null int64\n",
      "retweet_count     1967 non-null int64\n",
      "dog_stage         305 non-null object\n",
      "dog_breed         1967 non-null object\n",
      "rating            1967 non-null float64\n",
      "dtypes: datetime64[ns](1), float64(1), int64(3), object(4)\n",
      "memory usage: 153.7+ KB\n"
     ]
    }
   ],
   "source": [
    "tweet_merge_cln.info()"
   ]
  },
  {
   "cell_type": "markdown",
   "metadata": {},
   "source": [
    "<a id='analyze'></a>\n",
    "# Store, Analyze and Visualize"
   ]
  },
  {
   "cell_type": "code",
   "execution_count": 62,
   "metadata": {},
   "outputs": [],
   "source": [
    "tweet_merge_cln.to_csv('twitter_archive_master.csv',index=False,encoding='utf-8')"
   ]
  },
  {
   "cell_type": "markdown",
   "metadata": {},
   "source": [
    "#### Find out the correlation between numeric columns"
   ]
  },
  {
   "cell_type": "code",
   "execution_count": 63,
   "metadata": {},
   "outputs": [
    {
     "data": {
      "text/plain": [
       "Text(0.5,1,'Correlation Matrix - Individual Dogs')"
      ]
     },
     "execution_count": 63,
     "metadata": {},
     "output_type": "execute_result"
    },
    {
     "data": {
      "image/png": "[encoded data removed]",
      "text/plain": [
       "<matplotlib.figure.Figure at 0x7f776cf7ef98>"
      ]
     },
     "metadata": {
      "needs_background": "light"
     },
     "output_type": "display_data"
    }
   ],
   "source": [
    "corr = tweet_merge_cln.drop('tweet_id',axis=1).corr(method='spearman')\n",
    "\n",
    "plt.figure(figsize=(8,6))\n",
    "sns.heatmap(corr,xticklabels=corr.columns,yticklabels=corr.columns,annot=True,cmap='coolwarm')\n",
    "plt.title('Correlation Matrix - Individual Dogs')"
   ]
  },
  {
   "cell_type": "code",
   "execution_count": 64,
   "metadata": {},
   "outputs": [
    {
     "data": {
      "text/plain": [
       "Text(0.5,1.05,'Pairplot of rating, favorite and retweet counts')"
      ]
     },
     "execution_count": 64,
     "metadata": {},
     "output_type": "execute_result"
    },
    {
     "data": {
      "text/plain": [
       "<matplotlib.figure.Figure at 0x7f776ac45c18>"
      ]
     },
     "metadata": {},
     "output_type": "display_data"
    },
    {
     "data": {
      "image/png": "[encoded data removed]",
      "text/plain": [
       "<matplotlib.figure.Figure at 0x7f776ac57c18>"
      ]
     },
     "metadata": {
      "needs_background": "light"
     },
     "output_type": "display_data"
    }
   ],
   "source": [
    "plt.figure(figsize=(12,8))\n",
    "g = sns.pairplot(tweet_merge_cln.drop('tweet_id',axis=1))\n",
    "g.fig.suptitle('Pairplot of rating, favorite and retweet counts',y=1.05)"
   ]
  },
  {
   "cell_type": "markdown",
   "metadata": {},
   "source": [
    "#### Find out the rating distribution"
   ]
  },
  {
   "cell_type": "code",
   "execution_count": 65,
   "metadata": {},
   "outputs": [
    {
     "data": {
      "text/plain": [
       "Text(0,0.5,'Count of Rating')"
      ]
     },
     "execution_count": 65,
     "metadata": {},
     "output_type": "execute_result"
    },
    {
     "data": {
      "image/png": "[encoded data removed]",
      "text/plain": [
       "<matplotlib.figure.Figure at 0x7f776ac25eb8>"
      ]
     },
     "metadata": {
      "needs_background": "light"
     },
     "output_type": "display_data"
    }
   ],
   "source": [
    "plt.figure(figsize=(12,6))\n",
    "n = tweet_merge_cln.rating.nunique()\n",
    "\n",
    "sns.distplot(tweet_merge_cln['rating'],kde=False,bins=n,hist_kws={'alpha':1.0})\n",
    "plt.title('Rating Distribution of All Dogs')\n",
    "plt.xlabel('Rating')\n",
    "plt.ylabel('Count of Rating')"
   ]
  },
  {
   "cell_type": "markdown",
   "metadata": {},
   "source": [
    "#### Find out the rating distribution for different dog stages"
   ]
  },
  {
   "cell_type": "code",
   "execution_count": 66,
   "metadata": {},
   "outputs": [
    {
     "data": {
      "text/plain": [
       "Text(0.5,1,'Rating Distribution for Different Dog Stages')"
      ]
     },
     "execution_count": 66,
     "metadata": {},
     "output_type": "execute_result"
    },
    {
     "data": {
      "image/png": "[encoded data removed]",
      "text/plain": [
       "<matplotlib.figure.Figure at 0x7f776a620b00>"
      ]
     },
     "metadata": {
      "needs_background": "light"
     },
     "output_type": "display_data"
    }
   ],
   "source": [
    "plt.figure(figsize=(12,6))\n",
    "sns.boxplot(x='dog_stage',y='rating',data=tweet_merge_cln,palette='coolwarm')\n",
    "plt.title('Rating Distribution for Different Dog Stages')"
   ]
  },
  {
   "cell_type": "markdown",
   "metadata": {},
   "source": [
    "#### Find out the most rated and most liked dog breeds"
   ]
  },
  {
   "cell_type": "code",
   "execution_count": 67,
   "metadata": {},
   "outputs": [
    {
     "data": {
      "text/html": [
       "<div>\n",
       "<style scoped>\n",
       "    .dataframe tbody tr th:only-of-type {\n",
       "        vertical-align: middle;\n",
       "    }\n",
       "\n",
       "    .dataframe tbody tr th {\n",
       "        vertical-align: top;\n",
       "    }\n",
       "\n",
       "    .dataframe thead th {\n",
       "        text-align: right;\n",
       "    }\n",
       "</style>\n",
       "<table border=\"1\" class=\"dataframe\">\n",
       "  <thead>\n",
       "    <tr style=\"text-align: right;\">\n",
       "      <th></th>\n",
       "      <th>dog_breed</th>\n",
       "      <th>rating_count</th>\n",
       "      <th>rating_avg</th>\n",
       "      <th>favorite_avg</th>\n",
       "      <th>retweet_avg</th>\n",
       "    </tr>\n",
       "  </thead>\n",
       "  <tbody>\n",
       "    <tr>\n",
       "      <th>0</th>\n",
       "      <td>Afghan_hound</td>\n",
       "      <td>3</td>\n",
       "      <td>0.9667</td>\n",
       "      <td>15423.0</td>\n",
       "      <td>5067.0</td>\n",
       "    </tr>\n",
       "  </tbody>\n",
       "</table>\n",
       "</div>"
      ],
      "text/plain": [
       "      dog_breed  rating_count  rating_avg  favorite_avg  retweet_avg\n",
       "0  Afghan_hound             3      0.9667       15423.0       5067.0"
      ]
     },
     "execution_count": 67,
     "metadata": {},
     "output_type": "execute_result"
    }
   ],
   "source": [
    "df_breed = tweet_merge_cln.groupby('dog_breed')['rating','favorite_count','retweet_count'].agg({'rating':['count','mean'],'favorite_count':'mean','retweet_count':'mean'}).reset_index()\n",
    "df_breed.columns = ['dog_breed','rating_count','rating_avg','favorite_avg','retweet_avg']\n",
    "df_breed = df_breed.round({'rating_avg':4,'favorite_avg':0,'retweet_avg':0})\n",
    "df_breed.head(1)"
   ]
  },
  {
   "cell_type": "code",
   "execution_count": 68,
   "metadata": {},
   "outputs": [
    {
     "data": {
      "text/plain": [
       "Text(0.5,1.05,'Pairplot of breed_aggregated rating, favorite and retweet counts')"
      ]
     },
     "execution_count": 68,
     "metadata": {},
     "output_type": "execute_result"
    },
    {
     "data": {
      "text/plain": [
       "<matplotlib.figure.Figure at 0x7f776a4950b8>"
      ]
     },
     "metadata": {},
     "output_type": "display_data"
    },
    {
     "data": {
      "image/png": "[encoded data removed]",
      "text/plain": [
       "<matplotlib.figure.Figure at 0x7f776a5bcf60>"
      ]
     },
     "metadata": {
      "needs_background": "light"
     },
     "output_type": "display_data"
    }
   ],
   "source": [
    "plt.figure(figsize=(12,8))\n",
    "g = sns.pairplot(df_breed)\n",
    "g.fig.suptitle('Pairplot of breed_aggregated rating, favorite and retweet counts',y=1.05)"
   ]
  },
  {
   "cell_type": "code",
   "execution_count": 69,
   "metadata": {},
   "outputs": [
    {
     "data": {
      "text/plain": [
       "Text(0.5,1,'Correlation Matrix - Dog Breeds')"
      ]
     },
     "execution_count": 69,
     "metadata": {},
     "output_type": "execute_result"
    },
    {
     "data": {
      "image/png": "[encoded data removed]",
      "text/plain": [
       "<matplotlib.figure.Figure at 0x7f7769e86518>"
      ]
     },
     "metadata": {
      "needs_background": "light"
     },
     "output_type": "display_data"
    }
   ],
   "source": [
    "corr1 = df_breed.corr(method='spearman')\n",
    "\n",
    "plt.figure(figsize=(8,6))\n",
    "sns.heatmap(corr1,xticklabels=corr1.columns,yticklabels=corr1.columns,annot=True,cmap='coolwarm')\n",
    "plt.title('Correlation Matrix - Dog Breeds')"
   ]
  },
  {
   "cell_type": "code",
   "execution_count": 70,
   "metadata": {},
   "outputs": [
    {
     "data": {
      "text/html": [
       "<div>\n",
       "<style scoped>\n",
       "    .dataframe tbody tr th:only-of-type {\n",
       "        vertical-align: middle;\n",
       "    }\n",
       "\n",
       "    .dataframe tbody tr th {\n",
       "        vertical-align: top;\n",
       "    }\n",
       "\n",
       "    .dataframe thead th {\n",
       "        text-align: right;\n",
       "    }\n",
       "</style>\n",
       "<table border=\"1\" class=\"dataframe\">\n",
       "  <thead>\n",
       "    <tr style=\"text-align: right;\">\n",
       "      <th></th>\n",
       "      <th>dog_breed</th>\n",
       "      <th>rating_count</th>\n",
       "      <th>rating_avg</th>\n",
       "      <th>favorite_avg</th>\n",
       "      <th>retweet_avg</th>\n",
       "    </tr>\n",
       "  </thead>\n",
       "  <tbody>\n",
       "    <tr>\n",
       "      <th>90</th>\n",
       "      <td>golden_retriever</td>\n",
       "      <td>154</td>\n",
       "      <td>1.1552</td>\n",
       "      <td>11209.0</td>\n",
       "      <td>3191.0</td>\n",
       "    </tr>\n",
       "    <tr>\n",
       "      <th>37</th>\n",
       "      <td>Labrador_retriever</td>\n",
       "      <td>103</td>\n",
       "      <td>1.1165</td>\n",
       "      <td>10629.0</td>\n",
       "      <td>3243.0</td>\n",
       "    </tr>\n",
       "    <tr>\n",
       "      <th>50</th>\n",
       "      <td>Pembroke</td>\n",
       "      <td>95</td>\n",
       "      <td>1.1411</td>\n",
       "      <td>9988.0</td>\n",
       "      <td>2645.0</td>\n",
       "    </tr>\n",
       "    <tr>\n",
       "      <th>16</th>\n",
       "      <td>Chihuahua</td>\n",
       "      <td>90</td>\n",
       "      <td>1.0556</td>\n",
       "      <td>7419.0</td>\n",
       "      <td>2315.0</td>\n",
       "    </tr>\n",
       "    <tr>\n",
       "      <th>102</th>\n",
       "      <td>pug</td>\n",
       "      <td>62</td>\n",
       "      <td>1.0242</td>\n",
       "      <td>5513.0</td>\n",
       "      <td>1619.0</td>\n",
       "    </tr>\n",
       "    <tr>\n",
       "      <th>109</th>\n",
       "      <td>toy_poodle</td>\n",
       "      <td>50</td>\n",
       "      <td>1.1020</td>\n",
       "      <td>5799.0</td>\n",
       "      <td>1903.0</td>\n",
       "    </tr>\n",
       "    <tr>\n",
       "      <th>82</th>\n",
       "      <td>chow</td>\n",
       "      <td>47</td>\n",
       "      <td>1.1404</td>\n",
       "      <td>8634.0</td>\n",
       "      <td>2403.0</td>\n",
       "    </tr>\n",
       "    <tr>\n",
       "      <th>51</th>\n",
       "      <td>Pomeranian</td>\n",
       "      <td>42</td>\n",
       "      <td>1.0929</td>\n",
       "      <td>6902.0</td>\n",
       "      <td>2319.0</td>\n",
       "    </tr>\n",
       "    <tr>\n",
       "      <th>56</th>\n",
       "      <td>Samoyed</td>\n",
       "      <td>41</td>\n",
       "      <td>1.1732</td>\n",
       "      <td>12313.0</td>\n",
       "      <td>4032.0</td>\n",
       "    </tr>\n",
       "    <tr>\n",
       "      <th>96</th>\n",
       "      <td>malamute</td>\n",
       "      <td>33</td>\n",
       "      <td>1.0879</td>\n",
       "      <td>9687.0</td>\n",
       "      <td>2845.0</td>\n",
       "    </tr>\n",
       "    <tr>\n",
       "      <th>15</th>\n",
       "      <td>Chesapeake_Bay_retriever</td>\n",
       "      <td>31</td>\n",
       "      <td>1.0839</td>\n",
       "      <td>9004.0</td>\n",
       "      <td>2313.0</td>\n",
       "    </tr>\n",
       "    <tr>\n",
       "      <th>84</th>\n",
       "      <td>cocker_spaniel</td>\n",
       "      <td>30</td>\n",
       "      <td>1.1333</td>\n",
       "      <td>12336.0</td>\n",
       "      <td>4205.0</td>\n",
       "    </tr>\n",
       "    <tr>\n",
       "      <th>23</th>\n",
       "      <td>French_bulldog</td>\n",
       "      <td>30</td>\n",
       "      <td>1.1167</td>\n",
       "      <td>18358.0</td>\n",
       "      <td>4675.0</td>\n",
       "    </tr>\n",
       "    <tr>\n",
       "      <th>98</th>\n",
       "      <td>miniature_pinscher</td>\n",
       "      <td>25</td>\n",
       "      <td>1.0000</td>\n",
       "      <td>7244.0</td>\n",
       "      <td>1961.0</td>\n",
       "    </tr>\n",
       "    <tr>\n",
       "      <th>22</th>\n",
       "      <td>Eskimo_dog</td>\n",
       "      <td>22</td>\n",
       "      <td>1.1409</td>\n",
       "      <td>11607.0</td>\n",
       "      <td>4119.0</td>\n",
       "    </tr>\n",
       "  </tbody>\n",
       "</table>\n",
       "</div>"
      ],
      "text/plain": [
       "                    dog_breed  rating_count  rating_avg  favorite_avg  \\\n",
       "90           golden_retriever           154      1.1552       11209.0   \n",
       "37         Labrador_retriever           103      1.1165       10629.0   \n",
       "50                   Pembroke            95      1.1411        9988.0   \n",
       "16                  Chihuahua            90      1.0556        7419.0   \n",
       "102                       pug            62      1.0242        5513.0   \n",
       "109                toy_poodle            50      1.1020        5799.0   \n",
       "82                       chow            47      1.1404        8634.0   \n",
       "51                 Pomeranian            42      1.0929        6902.0   \n",
       "56                    Samoyed            41      1.1732       12313.0   \n",
       "96                   malamute            33      1.0879        9687.0   \n",
       "15   Chesapeake_Bay_retriever            31      1.0839        9004.0   \n",
       "84             cocker_spaniel            30      1.1333       12336.0   \n",
       "23             French_bulldog            30      1.1167       18358.0   \n",
       "98         miniature_pinscher            25      1.0000        7244.0   \n",
       "22                 Eskimo_dog            22      1.1409       11607.0   \n",
       "\n",
       "     retweet_avg  \n",
       "90        3191.0  \n",
       "37        3243.0  \n",
       "50        2645.0  \n",
       "16        2315.0  \n",
       "102       1619.0  \n",
       "109       1903.0  \n",
       "82        2403.0  \n",
       "51        2319.0  \n",
       "56        4032.0  \n",
       "96        2845.0  \n",
       "15        2313.0  \n",
       "84        4205.0  \n",
       "23        4675.0  \n",
       "98        1961.0  \n",
       "22        4119.0  "
      ]
     },
     "execution_count": 70,
     "metadata": {},
     "output_type": "execute_result"
    }
   ],
   "source": [
    "top_rated_breed = df_breed.sort_values(by='rating_count',ascending=False)[1:16]\n",
    "top_rated_breed"
   ]
  },
  {
   "cell_type": "code",
   "execution_count": 71,
   "metadata": {
    "scrolled": false
   },
   "outputs": [
    {
     "data": {
      "text/plain": [
       "<matplotlib.legend.Legend at 0x7f77682d3780>"
      ]
     },
     "execution_count": 71,
     "metadata": {},
     "output_type": "execute_result"
    },
    {
     "data": {
      "image/png": "[encoded data removed]",
      "text/plain": [
       "<matplotlib.figure.Figure at 0x7f7768394748>"
      ]
     },
     "metadata": {
      "needs_background": "light"
     },
     "output_type": "display_data"
    }
   ],
   "source": [
    "fig, ax1 = plt.subplots(figsize=(12,6))\n",
    "ax2 = ax1.twinx()\n",
    "\n",
    "for tick in ax1.get_xticklabels():\n",
    "    tick.set_rotation(90)\n",
    "\n",
    "sns.barplot(ax=ax1,y='rating_count',x='dog_breed',data=top_rated_breed,palette='coolwarm',alpha=0.7)\n",
    "ax2.scatter(top_rated_breed['dog_breed'],top_rated_breed['rating_avg'],color='y',s=top_rated_breed['favorite_avg']/10,marker='^').set_label('favorite count')\n",
    "ax2.scatter(top_rated_breed['dog_breed'],top_rated_breed['rating_avg'],color='purple',s=top_rated_breed['retweet_avg']/10,marker='o').set_label('retweet count')\n",
    "plt.title('Rating Stats of 15 Most Rated Dog Breeds')\n",
    "ax1.set_ylabel('Count of Ratings')\n",
    "ax2.set_ylabel('Average Rating')\n",
    "ax2.legend()"
   ]
  },
  {
   "cell_type": "code",
   "execution_count": 72,
   "metadata": {},
   "outputs": [
    {
     "data": {
      "text/html": [
       "<div>\n",
       "<style scoped>\n",
       "    .dataframe tbody tr th:only-of-type {\n",
       "        vertical-align: middle;\n",
       "    }\n",
       "\n",
       "    .dataframe tbody tr th {\n",
       "        vertical-align: top;\n",
       "    }\n",
       "\n",
       "    .dataframe thead th {\n",
       "        text-align: right;\n",
       "    }\n",
       "</style>\n",
       "<table border=\"1\" class=\"dataframe\">\n",
       "  <thead>\n",
       "    <tr style=\"text-align: right;\">\n",
       "      <th></th>\n",
       "      <th>dog_breed</th>\n",
       "      <th>rating_count</th>\n",
       "      <th>rating_avg</th>\n",
       "      <th>favorite_avg</th>\n",
       "      <th>retweet_avg</th>\n",
       "    </tr>\n",
       "  </thead>\n",
       "  <tbody>\n",
       "    <tr>\n",
       "      <th>55</th>\n",
       "      <td>Saluki</td>\n",
       "      <td>4</td>\n",
       "      <td>1.2500</td>\n",
       "      <td>21751.0</td>\n",
       "      <td>4382.0</td>\n",
       "    </tr>\n",
       "    <tr>\n",
       "      <th>23</th>\n",
       "      <td>French_bulldog</td>\n",
       "      <td>30</td>\n",
       "      <td>1.1167</td>\n",
       "      <td>18358.0</td>\n",
       "      <td>4675.0</td>\n",
       "    </tr>\n",
       "    <tr>\n",
       "      <th>11</th>\n",
       "      <td>Bouvier_des_Flandres</td>\n",
       "      <td>1</td>\n",
       "      <td>1.3000</td>\n",
       "      <td>16097.0</td>\n",
       "      <td>3802.0</td>\n",
       "    </tr>\n",
       "    <tr>\n",
       "      <th>0</th>\n",
       "      <td>Afghan_hound</td>\n",
       "      <td>3</td>\n",
       "      <td>0.9667</td>\n",
       "      <td>15423.0</td>\n",
       "      <td>5067.0</td>\n",
       "    </tr>\n",
       "    <tr>\n",
       "      <th>74</th>\n",
       "      <td>black-and-tan_coonhound</td>\n",
       "      <td>2</td>\n",
       "      <td>1.0500</td>\n",
       "      <td>15329.0</td>\n",
       "      <td>3522.0</td>\n",
       "    </tr>\n",
       "    <tr>\n",
       "      <th>88</th>\n",
       "      <td>flat-coated_retriever</td>\n",
       "      <td>8</td>\n",
       "      <td>1.0875</td>\n",
       "      <td>15162.0</td>\n",
       "      <td>3927.0</td>\n",
       "    </tr>\n",
       "    <tr>\n",
       "      <th>33</th>\n",
       "      <td>Irish_water_spaniel</td>\n",
       "      <td>3</td>\n",
       "      <td>1.1333</td>\n",
       "      <td>14641.0</td>\n",
       "      <td>3842.0</td>\n",
       "    </tr>\n",
       "    <tr>\n",
       "      <th>39</th>\n",
       "      <td>Leonberg</td>\n",
       "      <td>3</td>\n",
       "      <td>1.1333</td>\n",
       "      <td>13280.0</td>\n",
       "      <td>3283.0</td>\n",
       "    </tr>\n",
       "    <tr>\n",
       "      <th>112</th>\n",
       "      <td>whippet</td>\n",
       "      <td>11</td>\n",
       "      <td>1.0182</td>\n",
       "      <td>13206.0</td>\n",
       "      <td>4361.0</td>\n",
       "    </tr>\n",
       "    <tr>\n",
       "      <th>20</th>\n",
       "      <td>English_springer</td>\n",
       "      <td>10</td>\n",
       "      <td>1.0500</td>\n",
       "      <td>12710.0</td>\n",
       "      <td>4660.0</td>\n",
       "    </tr>\n",
       "    <tr>\n",
       "      <th>107</th>\n",
       "      <td>standard_poodle</td>\n",
       "      <td>11</td>\n",
       "      <td>1.0727</td>\n",
       "      <td>12516.0</td>\n",
       "      <td>4742.0</td>\n",
       "    </tr>\n",
       "    <tr>\n",
       "      <th>84</th>\n",
       "      <td>cocker_spaniel</td>\n",
       "      <td>30</td>\n",
       "      <td>1.1333</td>\n",
       "      <td>12336.0</td>\n",
       "      <td>4205.0</td>\n",
       "    </tr>\n",
       "    <tr>\n",
       "      <th>56</th>\n",
       "      <td>Samoyed</td>\n",
       "      <td>41</td>\n",
       "      <td>1.1732</td>\n",
       "      <td>12313.0</td>\n",
       "      <td>4032.0</td>\n",
       "    </tr>\n",
       "    <tr>\n",
       "      <th>9</th>\n",
       "      <td>Border_terrier</td>\n",
       "      <td>7</td>\n",
       "      <td>1.2143</td>\n",
       "      <td>12204.0</td>\n",
       "      <td>2899.0</td>\n",
       "    </tr>\n",
       "    <tr>\n",
       "      <th>42</th>\n",
       "      <td>Mexican_hairless</td>\n",
       "      <td>7</td>\n",
       "      <td>0.9857</td>\n",
       "      <td>12168.0</td>\n",
       "      <td>3635.0</td>\n",
       "    </tr>\n",
       "  </tbody>\n",
       "</table>\n",
       "</div>"
      ],
      "text/plain": [
       "                   dog_breed  rating_count  rating_avg  favorite_avg  \\\n",
       "55                    Saluki             4      1.2500       21751.0   \n",
       "23            French_bulldog            30      1.1167       18358.0   \n",
       "11      Bouvier_des_Flandres             1      1.3000       16097.0   \n",
       "0               Afghan_hound             3      0.9667       15423.0   \n",
       "74   black-and-tan_coonhound             2      1.0500       15329.0   \n",
       "88     flat-coated_retriever             8      1.0875       15162.0   \n",
       "33       Irish_water_spaniel             3      1.1333       14641.0   \n",
       "39                  Leonberg             3      1.1333       13280.0   \n",
       "112                  whippet            11      1.0182       13206.0   \n",
       "20          English_springer            10      1.0500       12710.0   \n",
       "107          standard_poodle            11      1.0727       12516.0   \n",
       "84            cocker_spaniel            30      1.1333       12336.0   \n",
       "56                   Samoyed            41      1.1732       12313.0   \n",
       "9             Border_terrier             7      1.2143       12204.0   \n",
       "42          Mexican_hairless             7      0.9857       12168.0   \n",
       "\n",
       "     retweet_avg  \n",
       "55        4382.0  \n",
       "23        4675.0  \n",
       "11        3802.0  \n",
       "0         5067.0  \n",
       "74        3522.0  \n",
       "88        3927.0  \n",
       "33        3842.0  \n",
       "39        3283.0  \n",
       "112       4361.0  \n",
       "20        4660.0  \n",
       "107       4742.0  \n",
       "84        4205.0  \n",
       "56        4032.0  \n",
       "9         2899.0  \n",
       "42        3635.0  "
      ]
     },
     "execution_count": 72,
     "metadata": {},
     "output_type": "execute_result"
    }
   ],
   "source": [
    "top_liked_breed = df_breed.sort_values(by='favorite_avg',ascending=False)[1:16]\n",
    "top_liked_breed"
   ]
  },
  {
   "cell_type": "code",
   "execution_count": 73,
   "metadata": {},
   "outputs": [
    {
     "data": {
      "text/html": [
       "<div>\n",
       "<style scoped>\n",
       "    .dataframe tbody tr th:only-of-type {\n",
       "        vertical-align: middle;\n",
       "    }\n",
       "\n",
       "    .dataframe tbody tr th {\n",
       "        vertical-align: top;\n",
       "    }\n",
       "\n",
       "    .dataframe thead th {\n",
       "        text-align: right;\n",
       "    }\n",
       "</style>\n",
       "<table border=\"1\" class=\"dataframe\">\n",
       "  <thead>\n",
       "    <tr style=\"text-align: right;\">\n",
       "      <th></th>\n",
       "      <th>dog_breed</th>\n",
       "      <th>rating_count</th>\n",
       "      <th>rating_avg</th>\n",
       "      <th>favorite_avg</th>\n",
       "      <th>retweet_avg</th>\n",
       "    </tr>\n",
       "  </thead>\n",
       "  <tbody>\n",
       "    <tr>\n",
       "      <th>55</th>\n",
       "      <td>Saluki</td>\n",
       "      <td>4</td>\n",
       "      <td>1.2500</td>\n",
       "      <td>21751.0</td>\n",
       "      <td>4382.0</td>\n",
       "    </tr>\n",
       "    <tr>\n",
       "      <th>79</th>\n",
       "      <td>briard</td>\n",
       "      <td>3</td>\n",
       "      <td>1.2333</td>\n",
       "      <td>8475.0</td>\n",
       "      <td>2528.0</td>\n",
       "    </tr>\n",
       "    <tr>\n",
       "      <th>64</th>\n",
       "      <td>Tibetan_mastiff</td>\n",
       "      <td>4</td>\n",
       "      <td>1.2250</td>\n",
       "      <td>10820.0</td>\n",
       "      <td>3558.0</td>\n",
       "    </tr>\n",
       "    <tr>\n",
       "      <th>9</th>\n",
       "      <td>Border_terrier</td>\n",
       "      <td>7</td>\n",
       "      <td>1.2143</td>\n",
       "      <td>12204.0</td>\n",
       "      <td>2899.0</td>\n",
       "    </tr>\n",
       "    <tr>\n",
       "      <th>105</th>\n",
       "      <td>silky_terrier</td>\n",
       "      <td>1</td>\n",
       "      <td>1.2000</td>\n",
       "      <td>6516.0</td>\n",
       "      <td>1601.0</td>\n",
       "    </tr>\n",
       "    <tr>\n",
       "      <th>108</th>\n",
       "      <td>standard_schnauzer</td>\n",
       "      <td>1</td>\n",
       "      <td>1.2000</td>\n",
       "      <td>1792.0</td>\n",
       "      <td>769.0</td>\n",
       "    </tr>\n",
       "    <tr>\n",
       "      <th>26</th>\n",
       "      <td>Gordon_setter</td>\n",
       "      <td>4</td>\n",
       "      <td>1.1750</td>\n",
       "      <td>4880.0</td>\n",
       "      <td>2124.0</td>\n",
       "    </tr>\n",
       "    <tr>\n",
       "      <th>31</th>\n",
       "      <td>Irish_setter</td>\n",
       "      <td>4</td>\n",
       "      <td>1.1750</td>\n",
       "      <td>9425.0</td>\n",
       "      <td>2874.0</td>\n",
       "    </tr>\n",
       "    <tr>\n",
       "      <th>56</th>\n",
       "      <td>Samoyed</td>\n",
       "      <td>41</td>\n",
       "      <td>1.1732</td>\n",
       "      <td>12313.0</td>\n",
       "      <td>4032.0</td>\n",
       "    </tr>\n",
       "    <tr>\n",
       "      <th>90</th>\n",
       "      <td>golden_retriever</td>\n",
       "      <td>154</td>\n",
       "      <td>1.1552</td>\n",
       "      <td>11209.0</td>\n",
       "      <td>3191.0</td>\n",
       "    </tr>\n",
       "    <tr>\n",
       "      <th>113</th>\n",
       "      <td>wire-haired_fox_terrier</td>\n",
       "      <td>2</td>\n",
       "      <td>1.1500</td>\n",
       "      <td>7588.0</td>\n",
       "      <td>2525.0</td>\n",
       "    </tr>\n",
       "    <tr>\n",
       "      <th>89</th>\n",
       "      <td>giant_schnauzer</td>\n",
       "      <td>4</td>\n",
       "      <td>1.1500</td>\n",
       "      <td>8369.0</td>\n",
       "      <td>2467.0</td>\n",
       "    </tr>\n",
       "    <tr>\n",
       "      <th>4</th>\n",
       "      <td>Australian_terrier</td>\n",
       "      <td>2</td>\n",
       "      <td>1.1500</td>\n",
       "      <td>9972.0</td>\n",
       "      <td>2654.0</td>\n",
       "    </tr>\n",
       "    <tr>\n",
       "      <th>45</th>\n",
       "      <td>Norfolk_terrier</td>\n",
       "      <td>7</td>\n",
       "      <td>1.1429</td>\n",
       "      <td>5016.0</td>\n",
       "      <td>1653.0</td>\n",
       "    </tr>\n",
       "    <tr>\n",
       "      <th>28</th>\n",
       "      <td>Great_Pyrenees</td>\n",
       "      <td>14</td>\n",
       "      <td>1.1429</td>\n",
       "      <td>11628.0</td>\n",
       "      <td>4040.0</td>\n",
       "    </tr>\n",
       "  </tbody>\n",
       "</table>\n",
       "</div>"
      ],
      "text/plain": [
       "                   dog_breed  rating_count  rating_avg  favorite_avg  \\\n",
       "55                    Saluki             4      1.2500       21751.0   \n",
       "79                    briard             3      1.2333        8475.0   \n",
       "64           Tibetan_mastiff             4      1.2250       10820.0   \n",
       "9             Border_terrier             7      1.2143       12204.0   \n",
       "105            silky_terrier             1      1.2000        6516.0   \n",
       "108       standard_schnauzer             1      1.2000        1792.0   \n",
       "26             Gordon_setter             4      1.1750        4880.0   \n",
       "31              Irish_setter             4      1.1750        9425.0   \n",
       "56                   Samoyed            41      1.1732       12313.0   \n",
       "90          golden_retriever           154      1.1552       11209.0   \n",
       "113  wire-haired_fox_terrier             2      1.1500        7588.0   \n",
       "89           giant_schnauzer             4      1.1500        8369.0   \n",
       "4         Australian_terrier             2      1.1500        9972.0   \n",
       "45           Norfolk_terrier             7      1.1429        5016.0   \n",
       "28            Great_Pyrenees            14      1.1429       11628.0   \n",
       "\n",
       "     retweet_avg  \n",
       "55        4382.0  \n",
       "79        2528.0  \n",
       "64        3558.0  \n",
       "9         2899.0  \n",
       "105       1601.0  \n",
       "108        769.0  \n",
       "26        2124.0  \n",
       "31        2874.0  \n",
       "56        4032.0  \n",
       "90        3191.0  \n",
       "113       2525.0  \n",
       "89        2467.0  \n",
       "4         2654.0  \n",
       "45        1653.0  \n",
       "28        4040.0  "
      ]
     },
     "execution_count": 73,
     "metadata": {},
     "output_type": "execute_result"
    }
   ],
   "source": [
    "top_rated_breed = df_breed.sort_values(by='rating_avg',ascending=False)[1:16]\n",
    "top_rated_breed"
   ]
  },
  {
   "cell_type": "code",
   "execution_count": null,
   "metadata": {},
   "outputs": [],
   "source": []
  },
  {
   "cell_type": "code",
   "execution_count": null,
   "metadata": {},
   "outputs": [],
   "source": []
  }
 ],
 "metadata": {
  "kernelspec": {
   "display_name": "Python 3",
   "language": "python",
   "name": "python3"
  },
  "language_info": {
   "codemirror_mode": {
    "name": "ipython",
    "version": 3
   },
   "file_extension": ".py",
   "mimetype": "text/x-python",
   "name": "python",
   "nbconvert_exporter": "python",
   "pygments_lexer": "ipython3",
   "version": "3.6.3"
  }
 },
 "nbformat": 4,
 "nbformat_minor": 2
}
